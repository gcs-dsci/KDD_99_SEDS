{
 "cells": [
  {
   "cell_type": "markdown",
   "metadata": {
    "id": "JzONFe0W2mHw"
   },
   "source": [
    "# Case Study: Intrusion Detection Database - KDD-Cup 1999\n",
    "## Guilherme Costa Silva\n",
    "### A conclusion assignment project for an Software Engineering applied to Data Science"
   ]
  },
  {
   "cell_type": "markdown",
   "metadata": {
    "id": "gyW9zgTRlQap"
   },
   "source": [
    "## 1. Introduction"
   ]
  },
  {
   "cell_type": "markdown",
   "metadata": {
    "id": "iFWZvYd4nkZG"
   },
   "source": [
    "The **KDD-CUP '99** dataset is studied here, this dataset comes from computer network traffic probing at *Defense Advanced Research Projects Agency* (DARPA) works in 1998.\n",
    "\n",
    "Several attributes are analyzed in order to provide a classification of the operation type, based on the following attack categories: DoS, R2L, U2R and Probing, with their subcategories set in original data.\n",
    "This dataset can be seen at: https://www.kaggle.com/datasets/galaxyh/kdd-cup-1999-data\n",
    "\n",
    "\n",
    "**Information about the attributes:**\n",
    "1. **duration** - Duration in seconds of the connection, continuous attribute\n",
    "2. **protocol_type** - Type of protocol used in the connection (e.g., tcp, udp), discrete attribute\n",
    "3. **service** - Network service at the destination (e.g., http, telnet), discrete attribute\n",
    "4. **src_bytes** - Number of bytes sent from the source to the destination, continuous attribute\n",
    "5. **dst_bytes** - Number of bytes sent from the destination to the source, continuous attribute\n",
    "6. **flag** - Connection status (normal or error), discrete attribute\n",
    "7. **land** - 1 if the connection is from/to the same host; 0 otherwise, discrete attribute\n",
    "8. **wrong_fragment** - Number of fragments with errors, continuous attribute\n",
    "9. **urgent** - Number of packets with the urgent flag enabled, continuous attribute\n",
    "10. **hot** - Number of hot indicators, continuous attribute\n",
    "11. **num_failed_logins** - Number of unsuccessful login attempts, continuous attribute\n",
    "12. **logged_in** - 1 if login was successful; 0 otherwise, discrete attribute\n",
    "13. **num_compromised** - Number of compromised conditions, continuous attribute\n",
    "14. **root_shell** - 1 if a root shell was obtained; 0 otherwise, discrete attribute\n",
    "15. **su_attempted** - 1 if a super-user root command was attempted; 0 otherwise, discrete attribute\n",
    "16. **num_root** - Number of accesses as root, continuous attribute\n",
    "17. **num_file_creations** - Number of file creation operations, continuous attribute\n",
    "18. **num_shells** - Number of shell prompt obtentions, continuous attribute\n",
    "19. **num_access_files** - Number of operations on access control files, continuous attribute\n",
    "20. **num_outbound_cmds** - Number of external commands in an FTP session, continuous attribute\n",
    "21. **is_hot_login** - 1 if the login belongs to the 'hot' list; 0 otherwise, discrete attribute\n",
    "22. **is_guest_login** - 1 if the login used the guest account; 0 otherwise, discrete attribute\n",
    "23. **count** - Number of connections identical to this one for the same 'host' in the last 2 seconds, continuous attribute\n",
    "24. **srv_count** - Number of connections to the same service as used in this connection in the last 2 seconds, continuous attribute\n",
    "25. **serror_rate** - % of connections with SYN errors, continuous attribute\n",
    "26. **srv_serror_rate** - % of connections with SYN errors for this service, continuous attribute\n",
    "27. **rerror_rate** - % of connections with REJ errors, continuous attribute\n",
    "28. **srv_rerror_rate** - % of connections with REJ errors for this service, continuous attribute\n",
    "29. **same_srv_rate** - % of connections to the same service, continuous attribute\n",
    "30. **diff_srv_rate** - % of connections to different services, continuous attribute\n",
    "31. **srv_diff_host_rate** - % of connections of this same service to different hosts, continuous attribute\n",
    "32. **dst_host_count** - Number of connections with the same destination host as this one, continuous attribute\n",
    "33. **dst_host_srv_count** - Number of connections with the same destination host and the same service as this one, continuous attribute\n",
    "34. **dst_host_serror_rate** - % of connections to the same host as the current connection that have an S0 error, continuous attribute\n",
    "35. **dst_host_srv_serror_rate** - % of connections to the same host and service as the current connection that have an S0 error, continuous attribute\n",
    "36. **dst_host_rerror_rate** - % of connections to the same host that have an RST flag, continuous attribute\n",
    "37. **dst_host_srv_rerror_rate** - % of connections to the same host and service as the current connection that have an RST flag, continuous attribute\n",
    "38. **dst_host_same_srv_count** - % of connections with the same destination host and the same service as this one, continuous attribute\n",
    "39. **dst_host_diff_srv_rate** - % of connections with the same destination host and different services than this one, continuous attribute\n",
    "40. **dst_host_same_src_port_rate** - % of connections with the same destination host and the same source port as the current connection, continuous attribute\n",
    "41. **dst_host_srv_diff_host_rate** - % of connections to the same service from different hosts, continuous attribute\n",
    "42. **class** - Classification variable for the scenario, discrete attribute (Normal, DOS, Probing, R2L, U2R)"
   ]
  },
  {
   "cell_type": "markdown",
   "metadata": {
    "id": "B15sKAWRbgY0"
   },
   "source": [
    "## 2. User Story"
   ]
  },
  {
   "cell_type": "markdown",
   "metadata": {
    "id": "m08ZLD-lb9Fb"
   },
   "source": [
    "### Description\n",
    "\n",
    "**As** a manager of the KDD-Cup '99 computer network **I expect** to automatically classify any system activity **To** know whether such activity is considered an attack on the network or a normal activity."
   ]
  },
  {
   "cell_type": "markdown",
   "metadata": {
    "id": "v3YwS6dGc2F5"
   },
   "source": [
    "### General Rules\n",
    "\n",
    "If an activity is different of a default system usage in the computer network, it may be classified as an attack among four existing categories, otherwise, it will be considered a normal network activity."
   ]
  },
  {
   "cell_type": "markdown",
   "metadata": {
    "id": "nqBa3ZQXdlxm"
   },
   "source": [
    "### User Story Details\n",
    "\n",
    "#### Objective\n",
    "\n",
    "The ML system should use audit data to classify the operation of a computer network, given that the environment may be in normal operation or in an attack or intrusion situation, in which case the system must also inform which type of attack to which the network environment is being exposed, given four known categories: Denial of Service (DoS), scanning (Probing), obtaining privileges (U2S) or remote attack (R2L), depending on the different audit information collected in at least 95% of the cases audited.  \n",
    "\n",
    "#### Experience\n",
    "\n",
    "Considering the impacts caused by attacks that go unnoticed by auditors and situations of false alarms arising from false positives, the samples collected must represent the different situations audited by the network environment offered by the management system and auditors must have access to complete monitoring by the ML system in question, which will inform the operational context, carried out automatically. In case of an attack, the auditor can have access to the attributes used to inform which attack was carried out, making appropriate decisions. \n",
    "\n",
    "#### Infrastructure\n",
    "\n",
    "Once the context of the network environment has been proven, the data is added to the model, so that the system classifies more similar situations and cases of false positives and/or false negatives are reduced. Integration with audit and management software network is through the log data offered by them.\n",
    "\n",
    "#### Model\n",
    "\n",
    "The 41 attributes used are refined according to attribute selection techniques adopted to mitigate computational processing costs, so that the classifier models, defined by 5 ML methods (Decision Trees, Bayesian Classifier, Logistic Regression, Linear Discriminant and Linear Support Vector) and 2 *ensembles* based on decision trees, all used to describe the network's operating context. Each system must inform the operational context within 5 minutes, evaluated by the accuracy of the model, which defines how accurate the prediction must be in accordance with an actual classification.\n",
    "\n",
    "#### Data\n",
    "\n",
    "As there are many samples to be analyzed, the data in question is pre-processed using normalization techniques so that it can be easily analyzed by the model and must be in accordance with the format compatible with the system, whether in the training stage or in testing. . Then, the selected attributes, in order to reduce the model's computational costs, are evaluated, all corresponding to real data from an audited system, to avoid inducing prediction errors. It is expected that, with these procedures, the system will perform the correct prediction of the network operating context."
   ]
  },
  {
   "cell_type": "markdown",
   "metadata": {
    "id": "1dfrZKLi8x3j"
   },
   "source": [
    "## 3. Source Code\n",
    "\n",
    "This work was developed according to the code in the OOP format defined below. The tools used are Pandas, Scikit Learn, Weka (based on Java) and JVM (for compatibility with Java). \n"
   ]
  },
  {
   "cell_type": "code",
   "execution_count": 1,
   "metadata": {
    "id": "CrGlg-rmyMBO"
   },
   "outputs": [],
   "source": [
    "import traceback\n",
    "import sklweka.jvm as jvm\n",
    "from weka.core.dataset import create_instances_from_lists\n",
    "from sklearn import metrics\n",
    "import pandas as pd\n",
    "import numpy as np\n",
    "import matplotlib.pyplot as plt\n",
    "from loader import Loader\n",
    "from preprocessor import PreProcessor\n",
    "from attributeselector import AttributeSelector\n",
    "from mlmodel import WekaModel\n",
    "from mlbatchbuilder import MlBatchBuilder\n",
    "from mlevaluator import MlEvaluator"
   ]
  },
  {
   "cell_type": "code",
   "execution_count": 2,
   "metadata": {},
   "outputs": [
    {
     "name": "stderr",
     "output_type": "stream",
     "text": [
      "DEBUG:weka.core.jvm:Adding bundled jars\n",
      "DEBUG:weka.core.jvm:Classpath=['/home/guicostas/.local/lib/python3.10/site-packages/javabridge/jars/rhino-1.7R4.jar', '/home/guicostas/.local/lib/python3.10/site-packages/javabridge/jars/runnablequeue.jar', '/home/guicostas/.local/lib/python3.10/site-packages/javabridge/jars/cpython.jar', '/home/guicostas/.local/lib/python3.10/site-packages/weka/lib/weka-old.jar', '/home/guicostas/.local/lib/python3.10/site-packages/weka/lib/weka.jar', '/home/guicostas/.local/lib/python3.10/site-packages/weka/lib/python-weka-wrapper.jar']\n",
      "DEBUG:weka.core.jvm:MaxHeapSize=2048m\n",
      "DEBUG:weka.core.jvm:Package support enabled\n"
     ]
    }
   ],
   "source": [
    "# start JVM with Weka package support\n",
    "jvm.start(packages=True, max_heap_size=\"2048m\")"
   ]
  },
  {
   "cell_type": "code",
   "execution_count": 3,
   "metadata": {
    "id": "L7STsOSzy7MA"
   },
   "outputs": [],
   "source": [
    "# warnings disabled (ignore all)\n",
    "import warnings\n",
    "warnings.filterwarnings(\"ignore\")"
   ]
  },
  {
   "cell_type": "code",
   "execution_count": 4,
   "metadata": {},
   "outputs": [],
   "source": [
    "# Initializing classes\n",
    "preprocessor = PreProcessor()\n",
    "ml_eval = MlEvaluator()\n",
    "feat_selector = AttributeSelector()\n",
    "\n",
    "# WEKA algorithm\n",
    "algo = \"weka.classifiers.trees.J48\"\n",
    "weka_model = WekaModel(algo)\n"
   ]
  },
  {
   "cell_type": "markdown",
   "metadata": {
    "id": "lh2hZ0jvyl-7"
   },
   "source": [
    "## 4. Data definition"
   ]
  },
  {
   "cell_type": "markdown",
   "metadata": {
    "id": "MDk1PSS5yPe8"
   },
   "source": [
    "We use Pandas (Python Data Analysis Library) package and load the data directly from Sci-kit Learn in the default settings, unless otherwise specified.\n",
    "\n",
    "With the dataset loaded, we will explore it a little below."
   ]
  },
  {
   "cell_type": "markdown",
   "metadata": {
    "id": "R5xERC08FVdm"
   },
   "source": [
    "Here we define the classes that will be modeled and later analyzed, namely:\n",
    "```\n",
    "back dos\n",
    "buffer_overflow u2r\n",
    "ftp_write r2l\n",
    "guess_passwd r2l\n",
    "imap r2l\n",
    "ipsweep probe\n",
    "land dos\n",
    "loadmodule u2r\n",
    "multihop r2l\n",
    "neptune dos\n",
    "nmap probe\n",
    "perl u2r\n",
    "phf r2l\n",
    "pod dos\n",
    "portsweep probe\n",
    "rootkit u2r\n",
    "satan probe\n",
    "smurf dos\n",
    "spy r2l\n",
    "teardrop dos\n",
    "warezclient r2l\n",
    "warezmaster r2l\n",
    "```\n",
    "\n",
    "The code further presented converts the found classes:"
   ]
  },
  {
   "cell_type": "markdown",
   "metadata": {
    "id": "ioNfsEECnvi4"
   },
   "source": [
    "This code is implemented in the Loader class, after loading the database."
   ]
  },
  {
   "cell_type": "code",
   "execution_count": 5,
   "metadata": {
    "id": "jdVxHG2BnXNv"
   },
   "outputs": [
    {
     "name": "stdout",
     "output_type": "stream",
     "text": [
      "Loading toy dataset (and turning class into nominal one)\n",
      "duration                         Int64\n",
      "protocol_type                   object\n",
      "service                         object\n",
      "flag                            object\n",
      "src_bytes                        Int64\n",
      "dst_bytes                        Int64\n",
      "land                             Int64\n",
      "wrong_fragment                   Int64\n",
      "urgent                           Int64\n",
      "hot                              Int64\n",
      "num_failed_logins                Int64\n",
      "logged_in                        Int64\n",
      "num_compromised                  Int64\n",
      "root_shell                       Int64\n",
      "su_attempted                     Int64\n",
      "num_root                         Int64\n",
      "num_file_creations               Int64\n",
      "num_shells                       Int64\n",
      "num_access_files                 Int64\n",
      "num_outbound_cmds                Int64\n",
      "is_host_login                    Int64\n",
      "is_guest_login                   Int64\n",
      "count                            Int64\n",
      "srv_count                        Int64\n",
      "serror_rate                    Float64\n",
      "srv_serror_rate                Float64\n",
      "rerror_rate                    Float64\n",
      "srv_rerror_rate                Float64\n",
      "same_srv_rate                  Float64\n",
      "diff_srv_rate                  Float64\n",
      "srv_diff_host_rate             Float64\n",
      "dst_host_count                   Int64\n",
      "dst_host_srv_count               Int64\n",
      "dst_host_same_srv_rate         Float64\n",
      "dst_host_diff_srv_rate         Float64\n",
      "dst_host_same_src_port_rate    Float64\n",
      "dst_host_srv_diff_host_rate    Float64\n",
      "dst_host_serror_rate           Float64\n",
      "dst_host_srv_serror_rate       Float64\n",
      "dst_host_rerror_rate           Float64\n",
      "dst_host_srv_rerror_rate       Float64\n",
      "class_type                      object\n",
      "dtype: object\n"
     ]
    }
   ],
   "source": [
    "# Load Dataset (namely KDD-Cup'99)\n",
    "print(\"Loading toy dataset (and turning class into nominal one)\")\n",
    "df = Loader().load_data()\n",
    "print(df.dtypes)"
   ]
  },
  {
   "cell_type": "code",
   "execution_count": 4,
   "metadata": {
    "colab": {
     "base_uri": "https://localhost:8080/",
     "height": 300
    },
    "id": "rbjlQ2WB3EkA",
    "outputId": "2e44d0c0-2a35-4448-ae42-47e1a5f1347a"
   },
   "outputs": [
    {
     "data": {
      "text/html": [
       "<div>\n",
       "<style scoped>\n",
       "    .dataframe tbody tr th:only-of-type {\n",
       "        vertical-align: middle;\n",
       "    }\n",
       "\n",
       "    .dataframe tbody tr th {\n",
       "        vertical-align: top;\n",
       "    }\n",
       "\n",
       "    .dataframe thead th {\n",
       "        text-align: right;\n",
       "    }\n",
       "</style>\n",
       "<table border=\"1\" class=\"dataframe\">\n",
       "  <thead>\n",
       "    <tr style=\"text-align: right;\">\n",
       "      <th></th>\n",
       "      <th>duration</th>\n",
       "      <th>protocol_type</th>\n",
       "      <th>service</th>\n",
       "      <th>flag</th>\n",
       "      <th>src_bytes</th>\n",
       "      <th>dst_bytes</th>\n",
       "      <th>land</th>\n",
       "      <th>wrong_fragment</th>\n",
       "      <th>urgent</th>\n",
       "      <th>hot</th>\n",
       "      <th>...</th>\n",
       "      <th>dst_host_srv_count</th>\n",
       "      <th>dst_host_same_srv_rate</th>\n",
       "      <th>dst_host_diff_srv_rate</th>\n",
       "      <th>dst_host_same_src_port_rate</th>\n",
       "      <th>dst_host_srv_diff_host_rate</th>\n",
       "      <th>dst_host_serror_rate</th>\n",
       "      <th>dst_host_srv_serror_rate</th>\n",
       "      <th>dst_host_rerror_rate</th>\n",
       "      <th>dst_host_srv_rerror_rate</th>\n",
       "      <th>class_type</th>\n",
       "    </tr>\n",
       "  </thead>\n",
       "  <tbody>\n",
       "    <tr>\n",
       "      <th>0</th>\n",
       "      <td>0</td>\n",
       "      <td>tcp</td>\n",
       "      <td>private</td>\n",
       "      <td>S0</td>\n",
       "      <td>0</td>\n",
       "      <td>0</td>\n",
       "      <td>0</td>\n",
       "      <td>0</td>\n",
       "      <td>0</td>\n",
       "      <td>0</td>\n",
       "      <td>...</td>\n",
       "      <td>7</td>\n",
       "      <td>0.03</td>\n",
       "      <td>0.05</td>\n",
       "      <td>0.0</td>\n",
       "      <td>0.0</td>\n",
       "      <td>1.0</td>\n",
       "      <td>1.0</td>\n",
       "      <td>0.0</td>\n",
       "      <td>0.0</td>\n",
       "      <td>dos</td>\n",
       "    </tr>\n",
       "    <tr>\n",
       "      <th>1</th>\n",
       "      <td>0</td>\n",
       "      <td>tcp</td>\n",
       "      <td>private</td>\n",
       "      <td>S0</td>\n",
       "      <td>0</td>\n",
       "      <td>0</td>\n",
       "      <td>0</td>\n",
       "      <td>0</td>\n",
       "      <td>0</td>\n",
       "      <td>0</td>\n",
       "      <td>...</td>\n",
       "      <td>16</td>\n",
       "      <td>0.06</td>\n",
       "      <td>0.08</td>\n",
       "      <td>0.0</td>\n",
       "      <td>0.0</td>\n",
       "      <td>1.0</td>\n",
       "      <td>1.0</td>\n",
       "      <td>0.0</td>\n",
       "      <td>0.0</td>\n",
       "      <td>dos</td>\n",
       "    </tr>\n",
       "    <tr>\n",
       "      <th>2</th>\n",
       "      <td>0</td>\n",
       "      <td>icmp</td>\n",
       "      <td>ecr_i</td>\n",
       "      <td>SF</td>\n",
       "      <td>1032</td>\n",
       "      <td>0</td>\n",
       "      <td>0</td>\n",
       "      <td>0</td>\n",
       "      <td>0</td>\n",
       "      <td>0</td>\n",
       "      <td>...</td>\n",
       "      <td>255</td>\n",
       "      <td>1.0</td>\n",
       "      <td>0.0</td>\n",
       "      <td>1.0</td>\n",
       "      <td>0.0</td>\n",
       "      <td>0.0</td>\n",
       "      <td>0.0</td>\n",
       "      <td>0.0</td>\n",
       "      <td>0.0</td>\n",
       "      <td>dos</td>\n",
       "    </tr>\n",
       "    <tr>\n",
       "      <th>3</th>\n",
       "      <td>0</td>\n",
       "      <td>tcp</td>\n",
       "      <td>http</td>\n",
       "      <td>SF</td>\n",
       "      <td>163</td>\n",
       "      <td>25527</td>\n",
       "      <td>0</td>\n",
       "      <td>0</td>\n",
       "      <td>0</td>\n",
       "      <td>2</td>\n",
       "      <td>...</td>\n",
       "      <td>255</td>\n",
       "      <td>1.0</td>\n",
       "      <td>0.0</td>\n",
       "      <td>1.0</td>\n",
       "      <td>0.06</td>\n",
       "      <td>0.0</td>\n",
       "      <td>0.0</td>\n",
       "      <td>0.0</td>\n",
       "      <td>0.0</td>\n",
       "      <td>normal</td>\n",
       "    </tr>\n",
       "    <tr>\n",
       "      <th>4</th>\n",
       "      <td>0</td>\n",
       "      <td>tcp</td>\n",
       "      <td>http</td>\n",
       "      <td>SF</td>\n",
       "      <td>334</td>\n",
       "      <td>434</td>\n",
       "      <td>0</td>\n",
       "      <td>0</td>\n",
       "      <td>0</td>\n",
       "      <td>0</td>\n",
       "      <td>...</td>\n",
       "      <td>255</td>\n",
       "      <td>1.0</td>\n",
       "      <td>0.0</td>\n",
       "      <td>0.0</td>\n",
       "      <td>0.01</td>\n",
       "      <td>0.0</td>\n",
       "      <td>0.0</td>\n",
       "      <td>0.0</td>\n",
       "      <td>0.0</td>\n",
       "      <td>normal</td>\n",
       "    </tr>\n",
       "  </tbody>\n",
       "</table>\n",
       "<p>5 rows × 42 columns</p>\n",
       "</div>"
      ],
      "text/plain": [
       "   duration protocol_type  service flag  src_bytes  dst_bytes  land  \\\n",
       "0         0           tcp  private   S0          0          0     0   \n",
       "1         0           tcp  private   S0          0          0     0   \n",
       "2         0          icmp    ecr_i   SF       1032          0     0   \n",
       "3         0           tcp     http   SF        163      25527     0   \n",
       "4         0           tcp     http   SF        334        434     0   \n",
       "\n",
       "   wrong_fragment  urgent  hot  ...  dst_host_srv_count  \\\n",
       "0               0       0    0  ...                   7   \n",
       "1               0       0    0  ...                  16   \n",
       "2               0       0    0  ...                 255   \n",
       "3               0       0    2  ...                 255   \n",
       "4               0       0    0  ...                 255   \n",
       "\n",
       "   dst_host_same_srv_rate  dst_host_diff_srv_rate  \\\n",
       "0                    0.03                    0.05   \n",
       "1                    0.06                    0.08   \n",
       "2                     1.0                     0.0   \n",
       "3                     1.0                     0.0   \n",
       "4                     1.0                     0.0   \n",
       "\n",
       "   dst_host_same_src_port_rate  dst_host_srv_diff_host_rate  \\\n",
       "0                          0.0                          0.0   \n",
       "1                          0.0                          0.0   \n",
       "2                          1.0                          0.0   \n",
       "3                          1.0                         0.06   \n",
       "4                          0.0                         0.01   \n",
       "\n",
       "   dst_host_serror_rate  dst_host_srv_serror_rate  dst_host_rerror_rate  \\\n",
       "0                   1.0                       1.0                   0.0   \n",
       "1                   1.0                       1.0                   0.0   \n",
       "2                   0.0                       0.0                   0.0   \n",
       "3                   0.0                       0.0                   0.0   \n",
       "4                   0.0                       0.0                   0.0   \n",
       "\n",
       "   dst_host_srv_rerror_rate  class_type  \n",
       "0                       0.0         dos  \n",
       "1                       0.0         dos  \n",
       "2                       0.0         dos  \n",
       "3                       0.0      normal  \n",
       "4                       0.0      normal  \n",
       "\n",
       "[5 rows x 42 columns]"
      ]
     },
     "execution_count": 4,
     "metadata": {},
     "output_type": "execute_result"
    }
   ],
   "source": [
    "df.head()"
   ]
  },
  {
   "cell_type": "markdown",
   "metadata": {
    "id": "MllYGUWUDx3P"
   },
   "source": [
    "We display the mentioned attributes, for checking purposes:"
   ]
  },
  {
   "cell_type": "code",
   "execution_count": 6,
   "metadata": {
    "colab": {
     "base_uri": "https://localhost:8080/"
    },
    "id": "wd0J-ys6Dvmi",
    "outputId": "f525d3f9-97d3-4462-9dd5-8afe62e79d86"
   },
   "outputs": [
    {
     "data": {
      "text/plain": [
       "Index(['duration', 'protocol_type', 'service', 'flag', 'src_bytes',\n",
       "       'dst_bytes', 'land', 'wrong_fragment', 'urgent', 'hot',\n",
       "       'num_failed_logins', 'logged_in', 'num_compromised', 'root_shell',\n",
       "       'su_attempted', 'num_root', 'num_file_creations', 'num_shells',\n",
       "       'num_access_files', 'num_outbound_cmds', 'is_host_login',\n",
       "       'is_guest_login', 'count', 'srv_count', 'serror_rate',\n",
       "       'srv_serror_rate', 'rerror_rate', 'srv_rerror_rate', 'same_srv_rate',\n",
       "       'diff_srv_rate', 'srv_diff_host_rate', 'dst_host_count',\n",
       "       'dst_host_srv_count', 'dst_host_same_srv_rate',\n",
       "       'dst_host_diff_srv_rate', 'dst_host_same_src_port_rate',\n",
       "       'dst_host_srv_diff_host_rate', 'dst_host_serror_rate',\n",
       "       'dst_host_srv_serror_rate', 'dst_host_rerror_rate',\n",
       "       'dst_host_srv_rerror_rate', 'class_type'],\n",
       "      dtype='object')"
      ]
     },
     "execution_count": 6,
     "metadata": {},
     "output_type": "execute_result"
    }
   ],
   "source": [
    "df.columns"
   ]
  },
  {
   "cell_type": "markdown",
   "metadata": {
    "id": "jaZaGKtCE5xO"
   },
   "source": [
    "## 5. Data Analysis"
   ]
  },
  {
   "cell_type": "markdown",
   "metadata": {
    "id": "FYT--YvvNrUf"
   },
   "source": [
    "### Descriptive Statistics\n",
    "Once collected, the first step will be to examine the dimensions of the dataset, its information and some example lines."
   ]
  },
  {
   "cell_type": "code",
   "execution_count": 8,
   "metadata": {
    "colab": {
     "base_uri": "https://localhost:8080/"
    },
    "id": "2L8HZLcEOAjt",
    "outputId": "c8e2ed1c-8d71-4553-957e-4ef2675ce208"
   },
   "outputs": [
    {
     "name": "stdout",
     "output_type": "stream",
     "text": [
      "(494021, 42)\n"
     ]
    }
   ],
   "source": [
    "# Dataset dimensions presented here!\n",
    "print(df.shape)"
   ]
  },
  {
   "cell_type": "code",
   "execution_count": 9,
   "metadata": {
    "colab": {
     "base_uri": "https://localhost:8080/"
    },
    "id": "Q-m4Xy_mOOVC",
    "outputId": "80c39d63-b6af-467b-8f3b-5d0875c0a499"
   },
   "outputs": [
    {
     "name": "stdout",
     "output_type": "stream",
     "text": [
      "<class 'pandas.core.frame.DataFrame'>\n",
      "RangeIndex: 494021 entries, 0 to 494020\n",
      "Data columns (total 42 columns):\n",
      " #   Column                       Non-Null Count   Dtype  \n",
      "---  ------                       --------------   -----  \n",
      " 0   duration                     494021 non-null  Int64  \n",
      " 1   protocol_type                494021 non-null  object \n",
      " 2   service                      494021 non-null  object \n",
      " 3   flag                         494021 non-null  object \n",
      " 4   src_bytes                    494021 non-null  Int64  \n",
      " 5   dst_bytes                    494021 non-null  Int64  \n",
      " 6   land                         494021 non-null  Int64  \n",
      " 7   wrong_fragment               494021 non-null  Int64  \n",
      " 8   urgent                       494021 non-null  Int64  \n",
      " 9   hot                          494021 non-null  Int64  \n",
      " 10  num_failed_logins            494021 non-null  Int64  \n",
      " 11  logged_in                    494021 non-null  Int64  \n",
      " 12  num_compromised              494021 non-null  Int64  \n",
      " 13  root_shell                   494021 non-null  Int64  \n",
      " 14  su_attempted                 494021 non-null  Int64  \n",
      " 15  num_root                     494021 non-null  Int64  \n",
      " 16  num_file_creations           494021 non-null  Int64  \n",
      " 17  num_shells                   494021 non-null  Int64  \n",
      " 18  num_access_files             494021 non-null  Int64  \n",
      " 19  num_outbound_cmds            494021 non-null  Int64  \n",
      " 20  is_host_login                494021 non-null  Int64  \n",
      " 21  is_guest_login               494021 non-null  Int64  \n",
      " 22  count                        494021 non-null  Int64  \n",
      " 23  srv_count                    494021 non-null  Int64  \n",
      " 24  serror_rate                  494021 non-null  Float64\n",
      " 25  srv_serror_rate              494021 non-null  Float64\n",
      " 26  rerror_rate                  494021 non-null  Float64\n",
      " 27  srv_rerror_rate              494021 non-null  Float64\n",
      " 28  same_srv_rate                494021 non-null  Float64\n",
      " 29  diff_srv_rate                494021 non-null  Float64\n",
      " 30  srv_diff_host_rate           494021 non-null  Float64\n",
      " 31  dst_host_count               494021 non-null  Int64  \n",
      " 32  dst_host_srv_count           494021 non-null  Int64  \n",
      " 33  dst_host_same_srv_rate       494021 non-null  Float64\n",
      " 34  dst_host_diff_srv_rate       494021 non-null  Float64\n",
      " 35  dst_host_same_src_port_rate  494021 non-null  Float64\n",
      " 36  dst_host_srv_diff_host_rate  494021 non-null  Float64\n",
      " 37  dst_host_serror_rate         494021 non-null  Float64\n",
      " 38  dst_host_srv_serror_rate     494021 non-null  Float64\n",
      " 39  dst_host_rerror_rate         494021 non-null  Float64\n",
      " 40  dst_host_srv_rerror_rate     494021 non-null  Float64\n",
      " 41  class_type                   494021 non-null  object \n",
      "dtypes: Float64(15), Int64(23), object(4)\n",
      "memory usage: 176.2+ MB\n",
      "None\n"
     ]
    }
   ],
   "source": [
    "# Most dataset information!\n",
    "print(df.info())"
   ]
  },
  {
   "cell_type": "code",
   "execution_count": 10,
   "metadata": {
    "colab": {
     "base_uri": "https://localhost:8080/",
     "height": 456
    },
    "id": "njBLbs0jOVnA",
    "outputId": "5bc24fdb-3075-479d-8f16-d9330f8fb024"
   },
   "outputs": [
    {
     "data": {
      "text/html": [
       "<div>\n",
       "<style scoped>\n",
       "    .dataframe tbody tr th:only-of-type {\n",
       "        vertical-align: middle;\n",
       "    }\n",
       "\n",
       "    .dataframe tbody tr th {\n",
       "        vertical-align: top;\n",
       "    }\n",
       "\n",
       "    .dataframe thead th {\n",
       "        text-align: right;\n",
       "    }\n",
       "</style>\n",
       "<table border=\"1\" class=\"dataframe\">\n",
       "  <thead>\n",
       "    <tr style=\"text-align: right;\">\n",
       "      <th></th>\n",
       "      <th>duration</th>\n",
       "      <th>protocol_type</th>\n",
       "      <th>service</th>\n",
       "      <th>flag</th>\n",
       "      <th>src_bytes</th>\n",
       "      <th>dst_bytes</th>\n",
       "      <th>land</th>\n",
       "      <th>wrong_fragment</th>\n",
       "      <th>urgent</th>\n",
       "      <th>hot</th>\n",
       "      <th>...</th>\n",
       "      <th>dst_host_srv_count</th>\n",
       "      <th>dst_host_same_srv_rate</th>\n",
       "      <th>dst_host_diff_srv_rate</th>\n",
       "      <th>dst_host_same_src_port_rate</th>\n",
       "      <th>dst_host_srv_diff_host_rate</th>\n",
       "      <th>dst_host_serror_rate</th>\n",
       "      <th>dst_host_srv_serror_rate</th>\n",
       "      <th>dst_host_rerror_rate</th>\n",
       "      <th>dst_host_srv_rerror_rate</th>\n",
       "      <th>class_type</th>\n",
       "    </tr>\n",
       "  </thead>\n",
       "  <tbody>\n",
       "    <tr>\n",
       "      <th>0</th>\n",
       "      <td>0</td>\n",
       "      <td>tcp</td>\n",
       "      <td>private</td>\n",
       "      <td>S0</td>\n",
       "      <td>0</td>\n",
       "      <td>0</td>\n",
       "      <td>0</td>\n",
       "      <td>0</td>\n",
       "      <td>0</td>\n",
       "      <td>0</td>\n",
       "      <td>...</td>\n",
       "      <td>7</td>\n",
       "      <td>0.03</td>\n",
       "      <td>0.05</td>\n",
       "      <td>0.0</td>\n",
       "      <td>0.0</td>\n",
       "      <td>1.0</td>\n",
       "      <td>1.0</td>\n",
       "      <td>0.0</td>\n",
       "      <td>0.0</td>\n",
       "      <td>dos</td>\n",
       "    </tr>\n",
       "    <tr>\n",
       "      <th>1</th>\n",
       "      <td>0</td>\n",
       "      <td>tcp</td>\n",
       "      <td>private</td>\n",
       "      <td>S0</td>\n",
       "      <td>0</td>\n",
       "      <td>0</td>\n",
       "      <td>0</td>\n",
       "      <td>0</td>\n",
       "      <td>0</td>\n",
       "      <td>0</td>\n",
       "      <td>...</td>\n",
       "      <td>16</td>\n",
       "      <td>0.06</td>\n",
       "      <td>0.08</td>\n",
       "      <td>0.0</td>\n",
       "      <td>0.0</td>\n",
       "      <td>1.0</td>\n",
       "      <td>1.0</td>\n",
       "      <td>0.0</td>\n",
       "      <td>0.0</td>\n",
       "      <td>dos</td>\n",
       "    </tr>\n",
       "    <tr>\n",
       "      <th>2</th>\n",
       "      <td>0</td>\n",
       "      <td>icmp</td>\n",
       "      <td>ecr_i</td>\n",
       "      <td>SF</td>\n",
       "      <td>1032</td>\n",
       "      <td>0</td>\n",
       "      <td>0</td>\n",
       "      <td>0</td>\n",
       "      <td>0</td>\n",
       "      <td>0</td>\n",
       "      <td>...</td>\n",
       "      <td>255</td>\n",
       "      <td>1.0</td>\n",
       "      <td>0.0</td>\n",
       "      <td>1.0</td>\n",
       "      <td>0.0</td>\n",
       "      <td>0.0</td>\n",
       "      <td>0.0</td>\n",
       "      <td>0.0</td>\n",
       "      <td>0.0</td>\n",
       "      <td>dos</td>\n",
       "    </tr>\n",
       "    <tr>\n",
       "      <th>3</th>\n",
       "      <td>0</td>\n",
       "      <td>tcp</td>\n",
       "      <td>http</td>\n",
       "      <td>SF</td>\n",
       "      <td>163</td>\n",
       "      <td>25527</td>\n",
       "      <td>0</td>\n",
       "      <td>0</td>\n",
       "      <td>0</td>\n",
       "      <td>2</td>\n",
       "      <td>...</td>\n",
       "      <td>255</td>\n",
       "      <td>1.0</td>\n",
       "      <td>0.0</td>\n",
       "      <td>1.0</td>\n",
       "      <td>0.06</td>\n",
       "      <td>0.0</td>\n",
       "      <td>0.0</td>\n",
       "      <td>0.0</td>\n",
       "      <td>0.0</td>\n",
       "      <td>normal</td>\n",
       "    </tr>\n",
       "    <tr>\n",
       "      <th>4</th>\n",
       "      <td>0</td>\n",
       "      <td>tcp</td>\n",
       "      <td>http</td>\n",
       "      <td>SF</td>\n",
       "      <td>334</td>\n",
       "      <td>434</td>\n",
       "      <td>0</td>\n",
       "      <td>0</td>\n",
       "      <td>0</td>\n",
       "      <td>0</td>\n",
       "      <td>...</td>\n",
       "      <td>255</td>\n",
       "      <td>1.0</td>\n",
       "      <td>0.0</td>\n",
       "      <td>0.0</td>\n",
       "      <td>0.01</td>\n",
       "      <td>0.0</td>\n",
       "      <td>0.0</td>\n",
       "      <td>0.0</td>\n",
       "      <td>0.0</td>\n",
       "      <td>normal</td>\n",
       "    </tr>\n",
       "    <tr>\n",
       "      <th>5</th>\n",
       "      <td>0</td>\n",
       "      <td>icmp</td>\n",
       "      <td>ecr_i</td>\n",
       "      <td>SF</td>\n",
       "      <td>520</td>\n",
       "      <td>0</td>\n",
       "      <td>0</td>\n",
       "      <td>0</td>\n",
       "      <td>0</td>\n",
       "      <td>0</td>\n",
       "      <td>...</td>\n",
       "      <td>255</td>\n",
       "      <td>1.0</td>\n",
       "      <td>0.0</td>\n",
       "      <td>1.0</td>\n",
       "      <td>0.0</td>\n",
       "      <td>0.0</td>\n",
       "      <td>0.0</td>\n",
       "      <td>0.0</td>\n",
       "      <td>0.0</td>\n",
       "      <td>dos</td>\n",
       "    </tr>\n",
       "    <tr>\n",
       "      <th>6</th>\n",
       "      <td>0</td>\n",
       "      <td>icmp</td>\n",
       "      <td>ecr_i</td>\n",
       "      <td>SF</td>\n",
       "      <td>1032</td>\n",
       "      <td>0</td>\n",
       "      <td>0</td>\n",
       "      <td>0</td>\n",
       "      <td>0</td>\n",
       "      <td>0</td>\n",
       "      <td>...</td>\n",
       "      <td>255</td>\n",
       "      <td>1.0</td>\n",
       "      <td>0.0</td>\n",
       "      <td>1.0</td>\n",
       "      <td>0.0</td>\n",
       "      <td>0.0</td>\n",
       "      <td>0.0</td>\n",
       "      <td>0.0</td>\n",
       "      <td>0.0</td>\n",
       "      <td>dos</td>\n",
       "    </tr>\n",
       "    <tr>\n",
       "      <th>7</th>\n",
       "      <td>0</td>\n",
       "      <td>icmp</td>\n",
       "      <td>ecr_i</td>\n",
       "      <td>SF</td>\n",
       "      <td>1032</td>\n",
       "      <td>0</td>\n",
       "      <td>0</td>\n",
       "      <td>0</td>\n",
       "      <td>0</td>\n",
       "      <td>0</td>\n",
       "      <td>...</td>\n",
       "      <td>255</td>\n",
       "      <td>1.0</td>\n",
       "      <td>0.0</td>\n",
       "      <td>1.0</td>\n",
       "      <td>0.0</td>\n",
       "      <td>0.0</td>\n",
       "      <td>0.0</td>\n",
       "      <td>0.0</td>\n",
       "      <td>0.0</td>\n",
       "      <td>dos</td>\n",
       "    </tr>\n",
       "    <tr>\n",
       "      <th>8</th>\n",
       "      <td>0</td>\n",
       "      <td>icmp</td>\n",
       "      <td>ecr_i</td>\n",
       "      <td>SF</td>\n",
       "      <td>1032</td>\n",
       "      <td>0</td>\n",
       "      <td>0</td>\n",
       "      <td>0</td>\n",
       "      <td>0</td>\n",
       "      <td>0</td>\n",
       "      <td>...</td>\n",
       "      <td>255</td>\n",
       "      <td>1.0</td>\n",
       "      <td>0.0</td>\n",
       "      <td>1.0</td>\n",
       "      <td>0.0</td>\n",
       "      <td>0.0</td>\n",
       "      <td>0.0</td>\n",
       "      <td>0.0</td>\n",
       "      <td>0.0</td>\n",
       "      <td>dos</td>\n",
       "    </tr>\n",
       "    <tr>\n",
       "      <th>9</th>\n",
       "      <td>0</td>\n",
       "      <td>tcp</td>\n",
       "      <td>private</td>\n",
       "      <td>S0</td>\n",
       "      <td>0</td>\n",
       "      <td>0</td>\n",
       "      <td>0</td>\n",
       "      <td>0</td>\n",
       "      <td>0</td>\n",
       "      <td>0</td>\n",
       "      <td>...</td>\n",
       "      <td>17</td>\n",
       "      <td>0.07</td>\n",
       "      <td>0.06</td>\n",
       "      <td>0.0</td>\n",
       "      <td>0.0</td>\n",
       "      <td>1.0</td>\n",
       "      <td>1.0</td>\n",
       "      <td>0.0</td>\n",
       "      <td>0.0</td>\n",
       "      <td>dos</td>\n",
       "    </tr>\n",
       "  </tbody>\n",
       "</table>\n",
       "<p>10 rows × 42 columns</p>\n",
       "</div>"
      ],
      "text/plain": [
       "   duration protocol_type  service flag  src_bytes  dst_bytes  land  \\\n",
       "0         0           tcp  private   S0          0          0     0   \n",
       "1         0           tcp  private   S0          0          0     0   \n",
       "2         0          icmp    ecr_i   SF       1032          0     0   \n",
       "3         0           tcp     http   SF        163      25527     0   \n",
       "4         0           tcp     http   SF        334        434     0   \n",
       "5         0          icmp    ecr_i   SF        520          0     0   \n",
       "6         0          icmp    ecr_i   SF       1032          0     0   \n",
       "7         0          icmp    ecr_i   SF       1032          0     0   \n",
       "8         0          icmp    ecr_i   SF       1032          0     0   \n",
       "9         0           tcp  private   S0          0          0     0   \n",
       "\n",
       "   wrong_fragment  urgent  hot  ...  dst_host_srv_count  \\\n",
       "0               0       0    0  ...                   7   \n",
       "1               0       0    0  ...                  16   \n",
       "2               0       0    0  ...                 255   \n",
       "3               0       0    2  ...                 255   \n",
       "4               0       0    0  ...                 255   \n",
       "5               0       0    0  ...                 255   \n",
       "6               0       0    0  ...                 255   \n",
       "7               0       0    0  ...                 255   \n",
       "8               0       0    0  ...                 255   \n",
       "9               0       0    0  ...                  17   \n",
       "\n",
       "   dst_host_same_srv_rate  dst_host_diff_srv_rate  \\\n",
       "0                    0.03                    0.05   \n",
       "1                    0.06                    0.08   \n",
       "2                     1.0                     0.0   \n",
       "3                     1.0                     0.0   \n",
       "4                     1.0                     0.0   \n",
       "5                     1.0                     0.0   \n",
       "6                     1.0                     0.0   \n",
       "7                     1.0                     0.0   \n",
       "8                     1.0                     0.0   \n",
       "9                    0.07                    0.06   \n",
       "\n",
       "   dst_host_same_src_port_rate  dst_host_srv_diff_host_rate  \\\n",
       "0                          0.0                          0.0   \n",
       "1                          0.0                          0.0   \n",
       "2                          1.0                          0.0   \n",
       "3                          1.0                         0.06   \n",
       "4                          0.0                         0.01   \n",
       "5                          1.0                          0.0   \n",
       "6                          1.0                          0.0   \n",
       "7                          1.0                          0.0   \n",
       "8                          1.0                          0.0   \n",
       "9                          0.0                          0.0   \n",
       "\n",
       "   dst_host_serror_rate  dst_host_srv_serror_rate  dst_host_rerror_rate  \\\n",
       "0                   1.0                       1.0                   0.0   \n",
       "1                   1.0                       1.0                   0.0   \n",
       "2                   0.0                       0.0                   0.0   \n",
       "3                   0.0                       0.0                   0.0   \n",
       "4                   0.0                       0.0                   0.0   \n",
       "5                   0.0                       0.0                   0.0   \n",
       "6                   0.0                       0.0                   0.0   \n",
       "7                   0.0                       0.0                   0.0   \n",
       "8                   0.0                       0.0                   0.0   \n",
       "9                   1.0                       1.0                   0.0   \n",
       "\n",
       "   dst_host_srv_rerror_rate  class_type  \n",
       "0                       0.0         dos  \n",
       "1                       0.0         dos  \n",
       "2                       0.0         dos  \n",
       "3                       0.0      normal  \n",
       "4                       0.0      normal  \n",
       "5                       0.0         dos  \n",
       "6                       0.0         dos  \n",
       "7                       0.0         dos  \n",
       "8                       0.0         dos  \n",
       "9                       0.0         dos  \n",
       "\n",
       "[10 rows x 42 columns]"
      ]
     },
     "execution_count": 10,
     "metadata": {},
     "output_type": "execute_result"
    }
   ],
   "source": [
    "# The 10 first dataset lines!\n",
    "df.head(10)"
   ]
  },
  {
   "cell_type": "code",
   "execution_count": 11,
   "metadata": {
    "colab": {
     "base_uri": "https://localhost:8080/",
     "height": 456
    },
    "id": "2a4a_r4_OfgJ",
    "outputId": "591aafb8-86aa-4177-f244-d58ad42cd51c"
   },
   "outputs": [
    {
     "data": {
      "text/html": [
       "<div>\n",
       "<style scoped>\n",
       "    .dataframe tbody tr th:only-of-type {\n",
       "        vertical-align: middle;\n",
       "    }\n",
       "\n",
       "    .dataframe tbody tr th {\n",
       "        vertical-align: top;\n",
       "    }\n",
       "\n",
       "    .dataframe thead th {\n",
       "        text-align: right;\n",
       "    }\n",
       "</style>\n",
       "<table border=\"1\" class=\"dataframe\">\n",
       "  <thead>\n",
       "    <tr style=\"text-align: right;\">\n",
       "      <th></th>\n",
       "      <th>duration</th>\n",
       "      <th>protocol_type</th>\n",
       "      <th>service</th>\n",
       "      <th>flag</th>\n",
       "      <th>src_bytes</th>\n",
       "      <th>dst_bytes</th>\n",
       "      <th>land</th>\n",
       "      <th>wrong_fragment</th>\n",
       "      <th>urgent</th>\n",
       "      <th>hot</th>\n",
       "      <th>...</th>\n",
       "      <th>dst_host_srv_count</th>\n",
       "      <th>dst_host_same_srv_rate</th>\n",
       "      <th>dst_host_diff_srv_rate</th>\n",
       "      <th>dst_host_same_src_port_rate</th>\n",
       "      <th>dst_host_srv_diff_host_rate</th>\n",
       "      <th>dst_host_serror_rate</th>\n",
       "      <th>dst_host_srv_serror_rate</th>\n",
       "      <th>dst_host_rerror_rate</th>\n",
       "      <th>dst_host_srv_rerror_rate</th>\n",
       "      <th>class_type</th>\n",
       "    </tr>\n",
       "  </thead>\n",
       "  <tbody>\n",
       "    <tr>\n",
       "      <th>494011</th>\n",
       "      <td>0</td>\n",
       "      <td>icmp</td>\n",
       "      <td>ecr_i</td>\n",
       "      <td>SF</td>\n",
       "      <td>1032</td>\n",
       "      <td>0</td>\n",
       "      <td>0</td>\n",
       "      <td>0</td>\n",
       "      <td>0</td>\n",
       "      <td>0</td>\n",
       "      <td>...</td>\n",
       "      <td>255</td>\n",
       "      <td>1.0</td>\n",
       "      <td>0.0</td>\n",
       "      <td>1.0</td>\n",
       "      <td>0.0</td>\n",
       "      <td>0.0</td>\n",
       "      <td>0.0</td>\n",
       "      <td>0.0</td>\n",
       "      <td>0.0</td>\n",
       "      <td>dos</td>\n",
       "    </tr>\n",
       "    <tr>\n",
       "      <th>494012</th>\n",
       "      <td>0</td>\n",
       "      <td>icmp</td>\n",
       "      <td>ecr_i</td>\n",
       "      <td>SF</td>\n",
       "      <td>1032</td>\n",
       "      <td>0</td>\n",
       "      <td>0</td>\n",
       "      <td>0</td>\n",
       "      <td>0</td>\n",
       "      <td>0</td>\n",
       "      <td>...</td>\n",
       "      <td>255</td>\n",
       "      <td>1.0</td>\n",
       "      <td>0.0</td>\n",
       "      <td>1.0</td>\n",
       "      <td>0.0</td>\n",
       "      <td>0.0</td>\n",
       "      <td>0.0</td>\n",
       "      <td>0.0</td>\n",
       "      <td>0.0</td>\n",
       "      <td>dos</td>\n",
       "    </tr>\n",
       "    <tr>\n",
       "      <th>494013</th>\n",
       "      <td>0</td>\n",
       "      <td>icmp</td>\n",
       "      <td>ecr_i</td>\n",
       "      <td>SF</td>\n",
       "      <td>1032</td>\n",
       "      <td>0</td>\n",
       "      <td>0</td>\n",
       "      <td>0</td>\n",
       "      <td>0</td>\n",
       "      <td>0</td>\n",
       "      <td>...</td>\n",
       "      <td>255</td>\n",
       "      <td>1.0</td>\n",
       "      <td>0.0</td>\n",
       "      <td>1.0</td>\n",
       "      <td>0.0</td>\n",
       "      <td>0.0</td>\n",
       "      <td>0.0</td>\n",
       "      <td>0.0</td>\n",
       "      <td>0.0</td>\n",
       "      <td>dos</td>\n",
       "    </tr>\n",
       "    <tr>\n",
       "      <th>494014</th>\n",
       "      <td>0</td>\n",
       "      <td>icmp</td>\n",
       "      <td>ecr_i</td>\n",
       "      <td>SF</td>\n",
       "      <td>1032</td>\n",
       "      <td>0</td>\n",
       "      <td>0</td>\n",
       "      <td>0</td>\n",
       "      <td>0</td>\n",
       "      <td>0</td>\n",
       "      <td>...</td>\n",
       "      <td>255</td>\n",
       "      <td>1.0</td>\n",
       "      <td>0.0</td>\n",
       "      <td>1.0</td>\n",
       "      <td>0.0</td>\n",
       "      <td>0.0</td>\n",
       "      <td>0.0</td>\n",
       "      <td>0.0</td>\n",
       "      <td>0.0</td>\n",
       "      <td>dos</td>\n",
       "    </tr>\n",
       "    <tr>\n",
       "      <th>494015</th>\n",
       "      <td>0</td>\n",
       "      <td>icmp</td>\n",
       "      <td>ecr_i</td>\n",
       "      <td>SF</td>\n",
       "      <td>1032</td>\n",
       "      <td>0</td>\n",
       "      <td>0</td>\n",
       "      <td>0</td>\n",
       "      <td>0</td>\n",
       "      <td>0</td>\n",
       "      <td>...</td>\n",
       "      <td>255</td>\n",
       "      <td>1.0</td>\n",
       "      <td>0.0</td>\n",
       "      <td>1.0</td>\n",
       "      <td>0.0</td>\n",
       "      <td>0.0</td>\n",
       "      <td>0.0</td>\n",
       "      <td>0.0</td>\n",
       "      <td>0.0</td>\n",
       "      <td>dos</td>\n",
       "    </tr>\n",
       "    <tr>\n",
       "      <th>494016</th>\n",
       "      <td>0</td>\n",
       "      <td>tcp</td>\n",
       "      <td>private</td>\n",
       "      <td>REJ</td>\n",
       "      <td>0</td>\n",
       "      <td>0</td>\n",
       "      <td>0</td>\n",
       "      <td>0</td>\n",
       "      <td>0</td>\n",
       "      <td>0</td>\n",
       "      <td>...</td>\n",
       "      <td>19</td>\n",
       "      <td>0.07</td>\n",
       "      <td>0.07</td>\n",
       "      <td>0.0</td>\n",
       "      <td>0.0</td>\n",
       "      <td>0.0</td>\n",
       "      <td>0.0</td>\n",
       "      <td>1.0</td>\n",
       "      <td>1.0</td>\n",
       "      <td>dos</td>\n",
       "    </tr>\n",
       "    <tr>\n",
       "      <th>494017</th>\n",
       "      <td>0</td>\n",
       "      <td>tcp</td>\n",
       "      <td>private</td>\n",
       "      <td>S0</td>\n",
       "      <td>0</td>\n",
       "      <td>0</td>\n",
       "      <td>0</td>\n",
       "      <td>0</td>\n",
       "      <td>0</td>\n",
       "      <td>0</td>\n",
       "      <td>...</td>\n",
       "      <td>12</td>\n",
       "      <td>0.05</td>\n",
       "      <td>0.08</td>\n",
       "      <td>0.0</td>\n",
       "      <td>0.0</td>\n",
       "      <td>1.0</td>\n",
       "      <td>1.0</td>\n",
       "      <td>0.0</td>\n",
       "      <td>0.0</td>\n",
       "      <td>dos</td>\n",
       "    </tr>\n",
       "    <tr>\n",
       "      <th>494018</th>\n",
       "      <td>0</td>\n",
       "      <td>icmp</td>\n",
       "      <td>ecr_i</td>\n",
       "      <td>SF</td>\n",
       "      <td>1032</td>\n",
       "      <td>0</td>\n",
       "      <td>0</td>\n",
       "      <td>0</td>\n",
       "      <td>0</td>\n",
       "      <td>0</td>\n",
       "      <td>...</td>\n",
       "      <td>255</td>\n",
       "      <td>1.0</td>\n",
       "      <td>0.0</td>\n",
       "      <td>1.0</td>\n",
       "      <td>0.0</td>\n",
       "      <td>0.0</td>\n",
       "      <td>0.0</td>\n",
       "      <td>0.0</td>\n",
       "      <td>0.0</td>\n",
       "      <td>dos</td>\n",
       "    </tr>\n",
       "    <tr>\n",
       "      <th>494019</th>\n",
       "      <td>0</td>\n",
       "      <td>icmp</td>\n",
       "      <td>ecr_i</td>\n",
       "      <td>SF</td>\n",
       "      <td>1032</td>\n",
       "      <td>0</td>\n",
       "      <td>0</td>\n",
       "      <td>0</td>\n",
       "      <td>0</td>\n",
       "      <td>0</td>\n",
       "      <td>...</td>\n",
       "      <td>255</td>\n",
       "      <td>1.0</td>\n",
       "      <td>0.0</td>\n",
       "      <td>1.0</td>\n",
       "      <td>0.0</td>\n",
       "      <td>0.0</td>\n",
       "      <td>0.0</td>\n",
       "      <td>0.0</td>\n",
       "      <td>0.0</td>\n",
       "      <td>dos</td>\n",
       "    </tr>\n",
       "    <tr>\n",
       "      <th>494020</th>\n",
       "      <td>0</td>\n",
       "      <td>tcp</td>\n",
       "      <td>http</td>\n",
       "      <td>SF</td>\n",
       "      <td>295</td>\n",
       "      <td>415</td>\n",
       "      <td>0</td>\n",
       "      <td>0</td>\n",
       "      <td>0</td>\n",
       "      <td>0</td>\n",
       "      <td>...</td>\n",
       "      <td>255</td>\n",
       "      <td>1.0</td>\n",
       "      <td>0.0</td>\n",
       "      <td>0.0</td>\n",
       "      <td>0.0</td>\n",
       "      <td>0.0</td>\n",
       "      <td>0.0</td>\n",
       "      <td>0.0</td>\n",
       "      <td>0.0</td>\n",
       "      <td>normal</td>\n",
       "    </tr>\n",
       "  </tbody>\n",
       "</table>\n",
       "<p>10 rows × 42 columns</p>\n",
       "</div>"
      ],
      "text/plain": [
       "        duration protocol_type  service flag  src_bytes  dst_bytes  land  \\\n",
       "494011         0          icmp    ecr_i   SF       1032          0     0   \n",
       "494012         0          icmp    ecr_i   SF       1032          0     0   \n",
       "494013         0          icmp    ecr_i   SF       1032          0     0   \n",
       "494014         0          icmp    ecr_i   SF       1032          0     0   \n",
       "494015         0          icmp    ecr_i   SF       1032          0     0   \n",
       "494016         0           tcp  private  REJ          0          0     0   \n",
       "494017         0           tcp  private   S0          0          0     0   \n",
       "494018         0          icmp    ecr_i   SF       1032          0     0   \n",
       "494019         0          icmp    ecr_i   SF       1032          0     0   \n",
       "494020         0           tcp     http   SF        295        415     0   \n",
       "\n",
       "        wrong_fragment  urgent  hot  ...  dst_host_srv_count  \\\n",
       "494011               0       0    0  ...                 255   \n",
       "494012               0       0    0  ...                 255   \n",
       "494013               0       0    0  ...                 255   \n",
       "494014               0       0    0  ...                 255   \n",
       "494015               0       0    0  ...                 255   \n",
       "494016               0       0    0  ...                  19   \n",
       "494017               0       0    0  ...                  12   \n",
       "494018               0       0    0  ...                 255   \n",
       "494019               0       0    0  ...                 255   \n",
       "494020               0       0    0  ...                 255   \n",
       "\n",
       "        dst_host_same_srv_rate  dst_host_diff_srv_rate  \\\n",
       "494011                     1.0                     0.0   \n",
       "494012                     1.0                     0.0   \n",
       "494013                     1.0                     0.0   \n",
       "494014                     1.0                     0.0   \n",
       "494015                     1.0                     0.0   \n",
       "494016                    0.07                    0.07   \n",
       "494017                    0.05                    0.08   \n",
       "494018                     1.0                     0.0   \n",
       "494019                     1.0                     0.0   \n",
       "494020                     1.0                     0.0   \n",
       "\n",
       "        dst_host_same_src_port_rate  dst_host_srv_diff_host_rate  \\\n",
       "494011                          1.0                          0.0   \n",
       "494012                          1.0                          0.0   \n",
       "494013                          1.0                          0.0   \n",
       "494014                          1.0                          0.0   \n",
       "494015                          1.0                          0.0   \n",
       "494016                          0.0                          0.0   \n",
       "494017                          0.0                          0.0   \n",
       "494018                          1.0                          0.0   \n",
       "494019                          1.0                          0.0   \n",
       "494020                          0.0                          0.0   \n",
       "\n",
       "        dst_host_serror_rate  dst_host_srv_serror_rate  dst_host_rerror_rate  \\\n",
       "494011                   0.0                       0.0                   0.0   \n",
       "494012                   0.0                       0.0                   0.0   \n",
       "494013                   0.0                       0.0                   0.0   \n",
       "494014                   0.0                       0.0                   0.0   \n",
       "494015                   0.0                       0.0                   0.0   \n",
       "494016                   0.0                       0.0                   1.0   \n",
       "494017                   1.0                       1.0                   0.0   \n",
       "494018                   0.0                       0.0                   0.0   \n",
       "494019                   0.0                       0.0                   0.0   \n",
       "494020                   0.0                       0.0                   0.0   \n",
       "\n",
       "        dst_host_srv_rerror_rate  class_type  \n",
       "494011                       0.0         dos  \n",
       "494012                       0.0         dos  \n",
       "494013                       0.0         dos  \n",
       "494014                       0.0         dos  \n",
       "494015                       0.0         dos  \n",
       "494016                       1.0         dos  \n",
       "494017                       0.0         dos  \n",
       "494018                       0.0         dos  \n",
       "494019                       0.0         dos  \n",
       "494020                       0.0      normal  \n",
       "\n",
       "[10 rows x 42 columns]"
      ]
     },
     "execution_count": 11,
     "metadata": {},
     "output_type": "execute_result"
    }
   ],
   "source": [
    "# The 10 last dataset lines!\n",
    "df.tail(10)"
   ]
  },
  {
   "cell_type": "code",
   "execution_count": 12,
   "metadata": {
    "colab": {
     "base_uri": "https://localhost:8080/",
     "height": 394
    },
    "id": "bhDhZqWrOxja",
    "outputId": "dd05c10e-942d-4613-aeb0-ed7380b266ee"
   },
   "outputs": [
    {
     "data": {
      "text/html": [
       "<div>\n",
       "<style scoped>\n",
       "    .dataframe tbody tr th:only-of-type {\n",
       "        vertical-align: middle;\n",
       "    }\n",
       "\n",
       "    .dataframe tbody tr th {\n",
       "        vertical-align: top;\n",
       "    }\n",
       "\n",
       "    .dataframe thead th {\n",
       "        text-align: right;\n",
       "    }\n",
       "</style>\n",
       "<table border=\"1\" class=\"dataframe\">\n",
       "  <thead>\n",
       "    <tr style=\"text-align: right;\">\n",
       "      <th></th>\n",
       "      <th>duration</th>\n",
       "      <th>src_bytes</th>\n",
       "      <th>dst_bytes</th>\n",
       "      <th>land</th>\n",
       "      <th>wrong_fragment</th>\n",
       "      <th>urgent</th>\n",
       "      <th>hot</th>\n",
       "      <th>num_failed_logins</th>\n",
       "      <th>logged_in</th>\n",
       "      <th>num_compromised</th>\n",
       "      <th>...</th>\n",
       "      <th>dst_host_count</th>\n",
       "      <th>dst_host_srv_count</th>\n",
       "      <th>dst_host_same_srv_rate</th>\n",
       "      <th>dst_host_diff_srv_rate</th>\n",
       "      <th>dst_host_same_src_port_rate</th>\n",
       "      <th>dst_host_srv_diff_host_rate</th>\n",
       "      <th>dst_host_serror_rate</th>\n",
       "      <th>dst_host_srv_serror_rate</th>\n",
       "      <th>dst_host_rerror_rate</th>\n",
       "      <th>dst_host_srv_rerror_rate</th>\n",
       "    </tr>\n",
       "  </thead>\n",
       "  <tbody>\n",
       "    <tr>\n",
       "      <th>count</th>\n",
       "      <td>494021.000000</td>\n",
       "      <td>4.940210e+05</td>\n",
       "      <td>4.940210e+05</td>\n",
       "      <td>494021.000000</td>\n",
       "      <td>494021.000000</td>\n",
       "      <td>494021.000000</td>\n",
       "      <td>494021.000000</td>\n",
       "      <td>494021.000000</td>\n",
       "      <td>494021.000000</td>\n",
       "      <td>494021.000000</td>\n",
       "      <td>...</td>\n",
       "      <td>494021.000000</td>\n",
       "      <td>494021.000000</td>\n",
       "      <td>494021.000000</td>\n",
       "      <td>494021.000000</td>\n",
       "      <td>494021.000000</td>\n",
       "      <td>494021.000000</td>\n",
       "      <td>494021.000000</td>\n",
       "      <td>494021.000000</td>\n",
       "      <td>494021.000000</td>\n",
       "      <td>494021.000000</td>\n",
       "    </tr>\n",
       "    <tr>\n",
       "      <th>mean</th>\n",
       "      <td>47.979302</td>\n",
       "      <td>3.025610e+03</td>\n",
       "      <td>8.685324e+02</td>\n",
       "      <td>0.000045</td>\n",
       "      <td>0.006433</td>\n",
       "      <td>0.000014</td>\n",
       "      <td>0.034519</td>\n",
       "      <td>0.000152</td>\n",
       "      <td>0.148247</td>\n",
       "      <td>0.010212</td>\n",
       "      <td>...</td>\n",
       "      <td>232.470778</td>\n",
       "      <td>188.665670</td>\n",
       "      <td>0.753780</td>\n",
       "      <td>0.030906</td>\n",
       "      <td>0.601935</td>\n",
       "      <td>0.006684</td>\n",
       "      <td>0.176754</td>\n",
       "      <td>0.176443</td>\n",
       "      <td>0.058118</td>\n",
       "      <td>0.057412</td>\n",
       "    </tr>\n",
       "    <tr>\n",
       "      <th>std</th>\n",
       "      <td>707.746472</td>\n",
       "      <td>9.882181e+05</td>\n",
       "      <td>3.304000e+04</td>\n",
       "      <td>0.006673</td>\n",
       "      <td>0.134805</td>\n",
       "      <td>0.005510</td>\n",
       "      <td>0.782103</td>\n",
       "      <td>0.015520</td>\n",
       "      <td>0.355345</td>\n",
       "      <td>1.798326</td>\n",
       "      <td>...</td>\n",
       "      <td>64.745380</td>\n",
       "      <td>106.040437</td>\n",
       "      <td>0.410781</td>\n",
       "      <td>0.109259</td>\n",
       "      <td>0.481309</td>\n",
       "      <td>0.042133</td>\n",
       "      <td>0.380593</td>\n",
       "      <td>0.380919</td>\n",
       "      <td>0.230590</td>\n",
       "      <td>0.230140</td>\n",
       "    </tr>\n",
       "    <tr>\n",
       "      <th>min</th>\n",
       "      <td>0.000000</td>\n",
       "      <td>0.000000e+00</td>\n",
       "      <td>0.000000e+00</td>\n",
       "      <td>0.000000</td>\n",
       "      <td>0.000000</td>\n",
       "      <td>0.000000</td>\n",
       "      <td>0.000000</td>\n",
       "      <td>0.000000</td>\n",
       "      <td>0.000000</td>\n",
       "      <td>0.000000</td>\n",
       "      <td>...</td>\n",
       "      <td>0.000000</td>\n",
       "      <td>0.000000</td>\n",
       "      <td>0.000000</td>\n",
       "      <td>0.000000</td>\n",
       "      <td>0.000000</td>\n",
       "      <td>0.000000</td>\n",
       "      <td>0.000000</td>\n",
       "      <td>0.000000</td>\n",
       "      <td>0.000000</td>\n",
       "      <td>0.000000</td>\n",
       "    </tr>\n",
       "    <tr>\n",
       "      <th>25%</th>\n",
       "      <td>0.000000</td>\n",
       "      <td>4.500000e+01</td>\n",
       "      <td>0.000000e+00</td>\n",
       "      <td>0.000000</td>\n",
       "      <td>0.000000</td>\n",
       "      <td>0.000000</td>\n",
       "      <td>0.000000</td>\n",
       "      <td>0.000000</td>\n",
       "      <td>0.000000</td>\n",
       "      <td>0.000000</td>\n",
       "      <td>...</td>\n",
       "      <td>255.000000</td>\n",
       "      <td>46.000000</td>\n",
       "      <td>0.410000</td>\n",
       "      <td>0.000000</td>\n",
       "      <td>0.000000</td>\n",
       "      <td>0.000000</td>\n",
       "      <td>0.000000</td>\n",
       "      <td>0.000000</td>\n",
       "      <td>0.000000</td>\n",
       "      <td>0.000000</td>\n",
       "    </tr>\n",
       "    <tr>\n",
       "      <th>50%</th>\n",
       "      <td>0.000000</td>\n",
       "      <td>5.200000e+02</td>\n",
       "      <td>0.000000e+00</td>\n",
       "      <td>0.000000</td>\n",
       "      <td>0.000000</td>\n",
       "      <td>0.000000</td>\n",
       "      <td>0.000000</td>\n",
       "      <td>0.000000</td>\n",
       "      <td>0.000000</td>\n",
       "      <td>0.000000</td>\n",
       "      <td>...</td>\n",
       "      <td>255.000000</td>\n",
       "      <td>255.000000</td>\n",
       "      <td>1.000000</td>\n",
       "      <td>0.000000</td>\n",
       "      <td>1.000000</td>\n",
       "      <td>0.000000</td>\n",
       "      <td>0.000000</td>\n",
       "      <td>0.000000</td>\n",
       "      <td>0.000000</td>\n",
       "      <td>0.000000</td>\n",
       "    </tr>\n",
       "    <tr>\n",
       "      <th>75%</th>\n",
       "      <td>0.000000</td>\n",
       "      <td>1.032000e+03</td>\n",
       "      <td>0.000000e+00</td>\n",
       "      <td>0.000000</td>\n",
       "      <td>0.000000</td>\n",
       "      <td>0.000000</td>\n",
       "      <td>0.000000</td>\n",
       "      <td>0.000000</td>\n",
       "      <td>0.000000</td>\n",
       "      <td>0.000000</td>\n",
       "      <td>...</td>\n",
       "      <td>255.000000</td>\n",
       "      <td>255.000000</td>\n",
       "      <td>1.000000</td>\n",
       "      <td>0.040000</td>\n",
       "      <td>1.000000</td>\n",
       "      <td>0.000000</td>\n",
       "      <td>0.000000</td>\n",
       "      <td>0.000000</td>\n",
       "      <td>0.000000</td>\n",
       "      <td>0.000000</td>\n",
       "    </tr>\n",
       "    <tr>\n",
       "      <th>max</th>\n",
       "      <td>58329.000000</td>\n",
       "      <td>6.933756e+08</td>\n",
       "      <td>5.155468e+06</td>\n",
       "      <td>1.000000</td>\n",
       "      <td>3.000000</td>\n",
       "      <td>3.000000</td>\n",
       "      <td>30.000000</td>\n",
       "      <td>5.000000</td>\n",
       "      <td>1.000000</td>\n",
       "      <td>884.000000</td>\n",
       "      <td>...</td>\n",
       "      <td>255.000000</td>\n",
       "      <td>255.000000</td>\n",
       "      <td>1.000000</td>\n",
       "      <td>1.000000</td>\n",
       "      <td>1.000000</td>\n",
       "      <td>1.000000</td>\n",
       "      <td>1.000000</td>\n",
       "      <td>1.000000</td>\n",
       "      <td>1.000000</td>\n",
       "      <td>1.000000</td>\n",
       "    </tr>\n",
       "  </tbody>\n",
       "</table>\n",
       "<p>8 rows × 38 columns</p>\n",
       "</div>"
      ],
      "text/plain": [
       "            duration     src_bytes     dst_bytes           land  \\\n",
       "count  494021.000000  4.940210e+05  4.940210e+05  494021.000000   \n",
       "mean       47.979302  3.025610e+03  8.685324e+02       0.000045   \n",
       "std       707.746472  9.882181e+05  3.304000e+04       0.006673   \n",
       "min         0.000000  0.000000e+00  0.000000e+00       0.000000   \n",
       "25%         0.000000  4.500000e+01  0.000000e+00       0.000000   \n",
       "50%         0.000000  5.200000e+02  0.000000e+00       0.000000   \n",
       "75%         0.000000  1.032000e+03  0.000000e+00       0.000000   \n",
       "max     58329.000000  6.933756e+08  5.155468e+06       1.000000   \n",
       "\n",
       "       wrong_fragment         urgent            hot  num_failed_logins  \\\n",
       "count   494021.000000  494021.000000  494021.000000      494021.000000   \n",
       "mean         0.006433       0.000014       0.034519           0.000152   \n",
       "std          0.134805       0.005510       0.782103           0.015520   \n",
       "min          0.000000       0.000000       0.000000           0.000000   \n",
       "25%          0.000000       0.000000       0.000000           0.000000   \n",
       "50%          0.000000       0.000000       0.000000           0.000000   \n",
       "75%          0.000000       0.000000       0.000000           0.000000   \n",
       "max          3.000000       3.000000      30.000000           5.000000   \n",
       "\n",
       "           logged_in  num_compromised  ...  dst_host_count  \\\n",
       "count  494021.000000    494021.000000  ...   494021.000000   \n",
       "mean        0.148247         0.010212  ...      232.470778   \n",
       "std         0.355345         1.798326  ...       64.745380   \n",
       "min         0.000000         0.000000  ...        0.000000   \n",
       "25%         0.000000         0.000000  ...      255.000000   \n",
       "50%         0.000000         0.000000  ...      255.000000   \n",
       "75%         0.000000         0.000000  ...      255.000000   \n",
       "max         1.000000       884.000000  ...      255.000000   \n",
       "\n",
       "       dst_host_srv_count  dst_host_same_srv_rate  dst_host_diff_srv_rate  \\\n",
       "count       494021.000000           494021.000000           494021.000000   \n",
       "mean           188.665670                0.753780                0.030906   \n",
       "std            106.040437                0.410781                0.109259   \n",
       "min              0.000000                0.000000                0.000000   \n",
       "25%             46.000000                0.410000                0.000000   \n",
       "50%            255.000000                1.000000                0.000000   \n",
       "75%            255.000000                1.000000                0.040000   \n",
       "max            255.000000                1.000000                1.000000   \n",
       "\n",
       "       dst_host_same_src_port_rate  dst_host_srv_diff_host_rate  \\\n",
       "count                494021.000000                494021.000000   \n",
       "mean                      0.601935                     0.006684   \n",
       "std                       0.481309                     0.042133   \n",
       "min                       0.000000                     0.000000   \n",
       "25%                       0.000000                     0.000000   \n",
       "50%                       1.000000                     0.000000   \n",
       "75%                       1.000000                     0.000000   \n",
       "max                       1.000000                     1.000000   \n",
       "\n",
       "       dst_host_serror_rate  dst_host_srv_serror_rate  dst_host_rerror_rate  \\\n",
       "count         494021.000000             494021.000000         494021.000000   \n",
       "mean               0.176754                  0.176443              0.058118   \n",
       "std                0.380593                  0.380919              0.230590   \n",
       "min                0.000000                  0.000000              0.000000   \n",
       "25%                0.000000                  0.000000              0.000000   \n",
       "50%                0.000000                  0.000000              0.000000   \n",
       "75%                0.000000                  0.000000              0.000000   \n",
       "max                1.000000                  1.000000              1.000000   \n",
       "\n",
       "       dst_host_srv_rerror_rate  \n",
       "count             494021.000000  \n",
       "mean                   0.057412  \n",
       "std                    0.230140  \n",
       "min                    0.000000  \n",
       "25%                    0.000000  \n",
       "50%                    0.000000  \n",
       "75%                    0.000000  \n",
       "max                    1.000000  \n",
       "\n",
       "[8 rows x 38 columns]"
      ]
     },
     "execution_count": 12,
     "metadata": {},
     "output_type": "execute_result"
    }
   ],
   "source": [
    "# Makes a statistical summary of the dataset (mean, standard deviation, minimum, maximum and quartiles) for continuous attributes\n",
    "df.describe()"
   ]
  },
  {
   "cell_type": "markdown",
   "metadata": {
    "id": "zeM8G0z-PRVW"
   },
   "source": [
    "We will further check the dataset to see if the classes are balanced for later treatment, if necessary. In this database, there is a predominance of the `dos` class and the `normal` class, which defines an imbalance in the database. It may be necessary to carry out some type of treatment in the next steps."
   ]
  },
  {
   "cell_type": "code",
   "execution_count": 6,
   "metadata": {
    "colab": {
     "base_uri": "https://localhost:8080/"
    },
    "id": "y3BQP5XjPIC1",
    "outputId": "de68806e-697f-40c8-a09b-2accfc567569"
   },
   "outputs": [
    {
     "name": "stdout",
     "output_type": "stream",
     "text": [
      "class_type\n",
      "dos       54571\n",
      "normal    87832\n",
      "probe      2130\n",
      "r2l         999\n",
      "u2r          52\n",
      "dtype: int64\n"
     ]
    }
   ],
   "source": [
    "# classes distribution:\n",
    "print(df.groupby('class_type').size())"
   ]
  },
  {
   "cell_type": "markdown",
   "metadata": {
    "id": "WVQEqPsqRo0S"
   },
   "source": [
    "### Unimodal Visualizations\n",
    "\n",
    "We will now create a histogram for each attribute in the dataset. We will see that many attributes do not follow a regularly defined distribution, and there may be very sudden variations in some of them, such as `count` and many have larger values."
   ]
  },
  {
   "cell_type": "code",
   "execution_count": null,
   "metadata": {
    "colab": {
     "base_uri": "https://localhost:8080/",
     "height": 577
    },
    "id": "0EN7Pa13Rw5T",
    "outputId": "1d79b74b-7cdd-46a9-ef09-86d1b50a8eff"
   },
   "outputs": [
    {
     "data": {
      "image/png": "[encoded data removed]",
      "text/plain": [
       "<Figure size 1080x720 with 42 Axes>"
      ]
     },
     "metadata": {
      "needs_background": "light"
     },
     "output_type": "display_data"
    }
   ],
   "source": [
    "# Histogram\n",
    "data.hist(figsize = (15,10))\n",
    "plt.show()"
   ]
  },
  {
   "cell_type": "markdown",
   "metadata": {
    "id": "A8jghPJjarfk"
   },
   "source": [
    "Before calculating the density function, we will do some procedures, due to the singularity in some attributes.\n",
    "\n",
    "In bloxplot plots, we will see that the dispersion of the dataset attributes is very different."
   ]
  },
  {
   "cell_type": "code",
   "execution_count": null,
   "metadata": {
    "colab": {
     "base_uri": "https://localhost:8080/",
     "height": 623
    },
    "id": "ePImfRRma8hE",
    "outputId": "e00100f1-4368-4f5e-921d-1016df931b30"
   },
   "outputs": [
    {
     "data": {
      "image/png": "[encoded data removed]",
      "text/plain": [
       "<Figure size 1080x720 with 42 Axes>"
      ]
     },
     "metadata": {
      "needs_background": "light"
     },
     "output_type": "display_data"
    }
   ],
   "source": [
    "# Boxplot\n",
    "data.plot(kind = 'box', subplots = True, layout = (6,7), sharex = False, sharey = False, figsize = (15,10))\n",
    "plt.show()"
   ]
  },
  {
   "cell_type": "markdown",
   "metadata": {
    "id": "kVIiHqOFgzXp"
   },
   "source": [
    "### Multimodal Visualizations\n",
    "\n",
    "When viewing the correlations between attributes through the correlation matrix, we will notice that there appears to be some structure to the order of the attributes. The blue around the diagonal suggests that attributes that are close to each other are generally more correlated with each other. The red also suggest some moderate negative correlation.\n",
    "\n",
    "Let's now check the covariance between the numerical variables in the dataset. The **covariance** represents how two numerical variables are related. There are several ways to calculate the correlation between two variables, such as the Pearson correlation coefficient, which could be:\n",
    "* Close to -1: there is a negative correlation between the variables, \n",
    "* Close to +1: there is a positive correlation between the variables. \n",
    "* 0: there is no correlation between the variables.\n",
    "\n",
    "<i>NOTE: This information is relevant because some algorithms such as linear regression and logistic regression may present performance problems if there are highly correlated attributes. It is worth consulting the algorithm's documentation to check whether any type of dataset treatment is necessary.</i>\n",
    "\n",
    "We previously talked about the importance of correlation between attributes, and now we will visualize this information in graphic format. The **correlation matrix** graphically displays the correlation between the numerical attributes of the dataset. They are furthest from each other in the ordering. \n",
    "\n",
    "The following code displays the correlation matrix."
   ]
  },
  {
   "cell_type": "code",
   "execution_count": null,
   "metadata": {
    "colab": {
     "base_uri": "https://localhost:8080/",
     "height": 404
    },
    "id": "lOyNBwGlg7iJ",
    "outputId": "af90dafd-e44d-40c6-99f6-c0ccfc99afb1"
   },
   "outputs": [
    {
     "data": {
      "image/png": "[encoded data removed]",
      "text/plain": [
       "<Figure size 432x288 with 2 Axes>"
      ]
     },
     "metadata": {
      "needs_background": "light"
     },
     "output_type": "display_data"
    }
   ],
   "source": [
    "# Correlation Matrix with Matplotlib Seaborn\n",
    "sns.heatmap(data.corr(), cmap='RdBu');"
   ]
  },
  {
   "cell_type": "markdown",
   "metadata": {
    "id": "w_cPlvqth5Mr"
   },
   "source": [
    "The scatter plot shows the relationship between two variables. Let's display one for each pair of dataset attributes, using Seaborn. However, due to the large volume of data, it will not be possible to carry out this analysis at this time."
   ]
  },
  {
   "cell_type": "markdown",
   "metadata": {
    "id": "EQi_SKOsxXEG"
   },
   "source": [
    "## 6. Preprocessing data"
   ]
  },
  {
   "cell_type": "markdown",
   "metadata": {
    "id": "21ZKeZzTuedV"
   },
   "source": [
    "### Numerical Transformations\n",
    "\n",
    "We can normalize numerical data (38 attributes) using the MinMaxScaler object, from the Scikit-learn package. The default scale is the range [0,1], but it is possible to specify another range through the feature_range parameter, which will be used for all normalized variables."
   ]
  },
  {
   "cell_type": "code",
   "execution_count": null,
   "metadata": {
    "colab": {
     "base_uri": "https://localhost:8080/"
    },
    "deletable": false,
    "editable": false,
    "id": "-TJ7wNUYsMqc",
    "outputId": "8a1682a6-8a05-43a5-e8f2-f871c2fd09e8"
   },
   "outputs": [
    {
     "name": "stdout",
     "output_type": "stream",
     "text": [
      "[[0.00000000e+00 1.48837072e-06 0.00000000e+00 ... 0.00000000e+00\n",
      "  0.00000000e+00 0.00000000e+00]\n",
      " [0.00000000e+00 7.49954238e-07 0.00000000e+00 ... 0.00000000e+00\n",
      "  0.00000000e+00 0.00000000e+00]\n",
      " [0.00000000e+00 4.73048058e-07 4.36429826e-05 ... 0.00000000e+00\n",
      "  0.00000000e+00 0.00000000e+00]\n",
      " ...\n",
      " [0.00000000e+00 1.48837072e-06 0.00000000e+00 ... 0.00000000e+00\n",
      "  0.00000000e+00 0.00000000e+00]\n",
      " [0.00000000e+00 1.48837072e-06 0.00000000e+00 ... 0.00000000e+00\n",
      "  0.00000000e+00 0.00000000e+00]\n",
      " [0.00000000e+00 2.95655036e-07 1.10329460e-03 ... 0.00000000e+00\n",
      "  0.00000000e+00 0.00000000e+00]]\n"
     ]
    }
   ],
   "source": [
    "# setting the transformer as min max scaler\n",
    "scaler = MinMaxScaler()\n",
    "\n",
    "# transform continuous data only!\n",
    "df_number = data.select_dtypes(exclude=['object'])\n",
    "X_scaled = scaler.fit_transform(df_number)\n",
    "print(X_scaled)"
   ]
  },
  {
   "cell_type": "markdown",
   "metadata": {
    "id": "eYLXYiMqyeIQ"
   },
   "source": [
    "### Categorical Transformations\n",
    "\n",
    "For categorical data (the remaining 3 attributes, excluding the class), the best method to consider is OneHotEncoder, as there is no defined order in relation to them. In this case, the Dummy encoder mode was chosen.\n",
    "\n",
    "<i>Personal note: Particularly I consider methods that works with heterogeneous data as a better option, however, the encoding option is considered as a simpler way.</i>\n"
   ]
  },
  {
   "cell_type": "code",
   "execution_count": null,
   "metadata": {
    "colab": {
     "base_uri": "https://localhost:8080/"
    },
    "deletable": false,
    "editable": false,
    "id": "AivmoK6JzGhO",
    "outputId": "3714280b-7774-4d60-d4f9-093b27c90199"
   },
   "outputs": [
    {
     "name": "stdout",
     "output_type": "stream",
     "text": [
      "['protocol_type_tcp' 'protocol_type_udp' 'service_X11' 'service_Z39_50'\n",
      " 'service_auth' 'service_bgp' 'service_courier' 'service_csnet_ns'\n",
      " 'service_ctf' 'service_daytime' 'service_discard' 'service_domain'\n",
      " 'service_domain_u' 'service_echo' 'service_eco_i' 'service_ecr_i'\n",
      " 'service_efs' 'service_exec' 'service_finger' 'service_ftp'\n",
      " 'service_ftp_data' 'service_gopher' 'service_hostnames' 'service_http'\n",
      " 'service_http_443' 'service_imap4' 'service_iso_tsap' 'service_klogin'\n",
      " 'service_kshell' 'service_ldap' 'service_link' 'service_login'\n",
      " 'service_mtp' 'service_name' 'service_netbios_dgm' 'service_netbios_ns'\n",
      " 'service_netbios_ssn' 'service_netstat' 'service_nnsp' 'service_nntp'\n",
      " 'service_ntp_u' 'service_other' 'service_pm_dump' 'service_pop_2'\n",
      " 'service_pop_3' 'service_printer' 'service_private' 'service_red_i'\n",
      " 'service_remote_job' 'service_rje' 'service_shell' 'service_smtp'\n",
      " 'service_sql_net' 'service_ssh' 'service_sunrpc' 'service_supdup'\n",
      " 'service_systat' 'service_telnet' 'service_tftp_u' 'service_tim_i'\n",
      " 'service_time' 'service_urh_i' 'service_urp_i' 'service_uucp'\n",
      " 'service_uucp_path' 'service_vmnet' 'service_whois' 'flag_REJ'\n",
      " 'flag_RSTO' 'flag_RSTOS0' 'flag_RSTR' 'flag_S0' 'flag_S1' 'flag_S2'\n",
      " 'flag_S3' 'flag_SF' 'flag_SH']\n",
      "[[0. 0. 0. 0. 0. 0. 0. 0. 0. 0. 0. 0. 0. 0. 0. 1. 0. 0. 0. 0. 0. 0. 0. 0.\n",
      "  0. 0. 0. 0. 0. 0. 0. 0. 0. 0. 0. 0. 0. 0. 0. 0. 0. 0. 0. 0. 0. 0. 0. 0.\n",
      "  0. 0. 0. 0. 0. 0. 0. 0. 0. 0. 0. 0. 0. 0. 0. 0. 0. 0. 0. 0. 0. 0. 0. 0.\n",
      "  0. 0. 0. 1. 0.]\n",
      " [0. 0. 0. 0. 0. 0. 0. 0. 0. 0. 0. 0. 0. 0. 0. 1. 0. 0. 0. 0. 0. 0. 0. 0.\n",
      "  0. 0. 0. 0. 0. 0. 0. 0. 0. 0. 0. 0. 0. 0. 0. 0. 0. 0. 0. 0. 0. 0. 0. 0.\n",
      "  0. 0. 0. 0. 0. 0. 0. 0. 0. 0. 0. 0. 0. 0. 0. 0. 0. 0. 0. 0. 0. 0. 0. 0.\n",
      "  0. 0. 0. 1. 0.]\n",
      " [1. 0. 0. 0. 0. 0. 0. 0. 0. 0. 0. 0. 0. 0. 0. 0. 0. 0. 0. 0. 0. 0. 0. 1.\n",
      "  0. 0. 0. 0. 0. 0. 0. 0. 0. 0. 0. 0. 0. 0. 0. 0. 0. 0. 0. 0. 0. 0. 0. 0.\n",
      "  0. 0. 0. 0. 0. 0. 0. 0. 0. 0. 0. 0. 0. 0. 0. 0. 0. 0. 0. 0. 0. 0. 0. 0.\n",
      "  0. 0. 0. 1. 0.]\n",
      " [0. 0. 0. 0. 0. 0. 0. 0. 0. 0. 0. 0. 0. 0. 0. 1. 0. 0. 0. 0. 0. 0. 0. 0.\n",
      "  0. 0. 0. 0. 0. 0. 0. 0. 0. 0. 0. 0. 0. 0. 0. 0. 0. 0. 0. 0. 0. 0. 0. 0.\n",
      "  0. 0. 0. 0. 0. 0. 0. 0. 0. 0. 0. 0. 0. 0. 0. 0. 0. 0. 0. 0. 0. 0. 0. 0.\n",
      "  0. 0. 0. 1. 0.]\n",
      " [1. 0. 0. 0. 0. 0. 0. 0. 0. 0. 0. 0. 0. 0. 0. 0. 0. 0. 0. 0. 0. 0. 0. 0.\n",
      "  0. 0. 0. 1. 0. 0. 0. 0. 0. 0. 0. 0. 0. 0. 0. 0. 0. 0. 0. 0. 0. 0. 0. 0.\n",
      "  0. 0. 0. 0. 0. 0. 0. 0. 0. 0. 0. 0. 0. 0. 0. 0. 0. 0. 0. 0. 0. 0. 0. 1.\n",
      "  0. 0. 0. 0. 0.]]\n"
     ]
    }
   ],
   "source": [
    "# defining the transformer as one hot encoding (with Dummy variable encoder)\n",
    "encoder = OneHotEncoder(drop='first', sparse=False)\n",
    "\n",
    "X = data.select_dtypes(exclude=[np.number])\n",
    "X_encoded = encoder.fit_transform(X.values[:,0:3])\n",
    "\n",
    "# set all column names after the encoder\n",
    "column_name = pd.Series(X.columns.values[0:3])\n",
    "column_name = encoder.get_feature_names_out(column_name)\n",
    "print(column_name)\n",
    "\n",
    "# display transformed data!\n",
    "print(X_encoded[:5, :]) # 5 primeiras linhas, todas as colunas"
   ]
  },
  {
   "cell_type": "code",
   "execution_count": null,
   "metadata": {
    "colab": {
     "base_uri": "https://localhost:8080/",
     "height": 456
    },
    "deletable": false,
    "editable": false,
    "id": "0bzDRyJb1L1i",
    "outputId": "fd4855a5-0640-4fca-b932-bf3cdeac126a"
   },
   "outputs": [
    {
     "data": {
      "text/html": [
       "\n",
       "  <div id=\"df-dee993c3-de50-4761-8f91-ccb3f71bd61e\">\n",
       "    <div class=\"colab-df-container\">\n",
       "      <div>\n",
       "<style scoped>\n",
       "    .dataframe tbody tr th:only-of-type {\n",
       "        vertical-align: middle;\n",
       "    }\n",
       "\n",
       "    .dataframe tbody tr th {\n",
       "        vertical-align: top;\n",
       "    }\n",
       "\n",
       "    .dataframe thead th {\n",
       "        text-align: right;\n",
       "    }\n",
       "</style>\n",
       "<table border=\"1\" class=\"dataframe\">\n",
       "  <thead>\n",
       "    <tr style=\"text-align: right;\">\n",
       "      <th></th>\n",
       "      <th>duration</th>\n",
       "      <th>src_bytes</th>\n",
       "      <th>dst_bytes</th>\n",
       "      <th>land</th>\n",
       "      <th>wrong_fragment</th>\n",
       "      <th>urgent</th>\n",
       "      <th>hot</th>\n",
       "      <th>num_failed_logins</th>\n",
       "      <th>logged_in</th>\n",
       "      <th>num_compromised</th>\n",
       "      <th>...</th>\n",
       "      <th>flag_RSTO</th>\n",
       "      <th>flag_RSTOS0</th>\n",
       "      <th>flag_RSTR</th>\n",
       "      <th>flag_S0</th>\n",
       "      <th>flag_S1</th>\n",
       "      <th>flag_S2</th>\n",
       "      <th>flag_S3</th>\n",
       "      <th>flag_SF</th>\n",
       "      <th>flag_SH</th>\n",
       "      <th>labels</th>\n",
       "    </tr>\n",
       "  </thead>\n",
       "  <tbody>\n",
       "    <tr>\n",
       "      <th>0</th>\n",
       "      <td>0.0</td>\n",
       "      <td>1.488371e-06</td>\n",
       "      <td>0.000000</td>\n",
       "      <td>0.0</td>\n",
       "      <td>0.0</td>\n",
       "      <td>0.0</td>\n",
       "      <td>0.0</td>\n",
       "      <td>0.0</td>\n",
       "      <td>0.0</td>\n",
       "      <td>0.0</td>\n",
       "      <td>...</td>\n",
       "      <td>0.0</td>\n",
       "      <td>0.0</td>\n",
       "      <td>0.0</td>\n",
       "      <td>0.0</td>\n",
       "      <td>0.0</td>\n",
       "      <td>0.0</td>\n",
       "      <td>0.0</td>\n",
       "      <td>1.0</td>\n",
       "      <td>0.0</td>\n",
       "      <td>dos</td>\n",
       "    </tr>\n",
       "    <tr>\n",
       "      <th>1</th>\n",
       "      <td>0.0</td>\n",
       "      <td>7.499542e-07</td>\n",
       "      <td>0.000000</td>\n",
       "      <td>0.0</td>\n",
       "      <td>0.0</td>\n",
       "      <td>0.0</td>\n",
       "      <td>0.0</td>\n",
       "      <td>0.0</td>\n",
       "      <td>0.0</td>\n",
       "      <td>0.0</td>\n",
       "      <td>...</td>\n",
       "      <td>0.0</td>\n",
       "      <td>0.0</td>\n",
       "      <td>0.0</td>\n",
       "      <td>0.0</td>\n",
       "      <td>0.0</td>\n",
       "      <td>0.0</td>\n",
       "      <td>0.0</td>\n",
       "      <td>1.0</td>\n",
       "      <td>0.0</td>\n",
       "      <td>dos</td>\n",
       "    </tr>\n",
       "    <tr>\n",
       "      <th>2</th>\n",
       "      <td>0.0</td>\n",
       "      <td>4.730481e-07</td>\n",
       "      <td>0.000044</td>\n",
       "      <td>0.0</td>\n",
       "      <td>0.0</td>\n",
       "      <td>0.0</td>\n",
       "      <td>0.0</td>\n",
       "      <td>0.0</td>\n",
       "      <td>1.0</td>\n",
       "      <td>0.0</td>\n",
       "      <td>...</td>\n",
       "      <td>0.0</td>\n",
       "      <td>0.0</td>\n",
       "      <td>0.0</td>\n",
       "      <td>0.0</td>\n",
       "      <td>0.0</td>\n",
       "      <td>0.0</td>\n",
       "      <td>0.0</td>\n",
       "      <td>1.0</td>\n",
       "      <td>0.0</td>\n",
       "      <td>normal</td>\n",
       "    </tr>\n",
       "    <tr>\n",
       "      <th>3</th>\n",
       "      <td>0.0</td>\n",
       "      <td>1.488371e-06</td>\n",
       "      <td>0.000000</td>\n",
       "      <td>0.0</td>\n",
       "      <td>0.0</td>\n",
       "      <td>0.0</td>\n",
       "      <td>0.0</td>\n",
       "      <td>0.0</td>\n",
       "      <td>0.0</td>\n",
       "      <td>0.0</td>\n",
       "      <td>...</td>\n",
       "      <td>0.0</td>\n",
       "      <td>0.0</td>\n",
       "      <td>0.0</td>\n",
       "      <td>0.0</td>\n",
       "      <td>0.0</td>\n",
       "      <td>0.0</td>\n",
       "      <td>0.0</td>\n",
       "      <td>1.0</td>\n",
       "      <td>0.0</td>\n",
       "      <td>dos</td>\n",
       "    </tr>\n",
       "    <tr>\n",
       "      <th>4</th>\n",
       "      <td>0.0</td>\n",
       "      <td>0.000000e+00</td>\n",
       "      <td>0.000000</td>\n",
       "      <td>0.0</td>\n",
       "      <td>0.0</td>\n",
       "      <td>0.0</td>\n",
       "      <td>0.0</td>\n",
       "      <td>0.0</td>\n",
       "      <td>0.0</td>\n",
       "      <td>0.0</td>\n",
       "      <td>...</td>\n",
       "      <td>0.0</td>\n",
       "      <td>0.0</td>\n",
       "      <td>0.0</td>\n",
       "      <td>1.0</td>\n",
       "      <td>0.0</td>\n",
       "      <td>0.0</td>\n",
       "      <td>0.0</td>\n",
       "      <td>0.0</td>\n",
       "      <td>0.0</td>\n",
       "      <td>dos</td>\n",
       "    </tr>\n",
       "    <tr>\n",
       "      <th>5</th>\n",
       "      <td>0.0</td>\n",
       "      <td>1.488371e-06</td>\n",
       "      <td>0.000000</td>\n",
       "      <td>0.0</td>\n",
       "      <td>0.0</td>\n",
       "      <td>0.0</td>\n",
       "      <td>0.0</td>\n",
       "      <td>0.0</td>\n",
       "      <td>0.0</td>\n",
       "      <td>0.0</td>\n",
       "      <td>...</td>\n",
       "      <td>0.0</td>\n",
       "      <td>0.0</td>\n",
       "      <td>0.0</td>\n",
       "      <td>0.0</td>\n",
       "      <td>0.0</td>\n",
       "      <td>0.0</td>\n",
       "      <td>0.0</td>\n",
       "      <td>1.0</td>\n",
       "      <td>0.0</td>\n",
       "      <td>dos</td>\n",
       "    </tr>\n",
       "    <tr>\n",
       "      <th>6</th>\n",
       "      <td>0.0</td>\n",
       "      <td>1.488371e-06</td>\n",
       "      <td>0.000000</td>\n",
       "      <td>0.0</td>\n",
       "      <td>0.0</td>\n",
       "      <td>0.0</td>\n",
       "      <td>0.0</td>\n",
       "      <td>0.0</td>\n",
       "      <td>0.0</td>\n",
       "      <td>0.0</td>\n",
       "      <td>...</td>\n",
       "      <td>0.0</td>\n",
       "      <td>0.0</td>\n",
       "      <td>0.0</td>\n",
       "      <td>0.0</td>\n",
       "      <td>0.0</td>\n",
       "      <td>0.0</td>\n",
       "      <td>0.0</td>\n",
       "      <td>1.0</td>\n",
       "      <td>0.0</td>\n",
       "      <td>dos</td>\n",
       "    </tr>\n",
       "    <tr>\n",
       "      <th>7</th>\n",
       "      <td>0.0</td>\n",
       "      <td>0.000000e+00</td>\n",
       "      <td>0.000000</td>\n",
       "      <td>0.0</td>\n",
       "      <td>0.0</td>\n",
       "      <td>0.0</td>\n",
       "      <td>0.0</td>\n",
       "      <td>0.0</td>\n",
       "      <td>0.0</td>\n",
       "      <td>0.0</td>\n",
       "      <td>...</td>\n",
       "      <td>0.0</td>\n",
       "      <td>0.0</td>\n",
       "      <td>0.0</td>\n",
       "      <td>1.0</td>\n",
       "      <td>0.0</td>\n",
       "      <td>0.0</td>\n",
       "      <td>0.0</td>\n",
       "      <td>0.0</td>\n",
       "      <td>0.0</td>\n",
       "      <td>dos</td>\n",
       "    </tr>\n",
       "    <tr>\n",
       "      <th>8</th>\n",
       "      <td>0.0</td>\n",
       "      <td>9.129251e-07</td>\n",
       "      <td>0.000064</td>\n",
       "      <td>0.0</td>\n",
       "      <td>0.0</td>\n",
       "      <td>0.0</td>\n",
       "      <td>0.0</td>\n",
       "      <td>0.0</td>\n",
       "      <td>1.0</td>\n",
       "      <td>0.0</td>\n",
       "      <td>...</td>\n",
       "      <td>0.0</td>\n",
       "      <td>0.0</td>\n",
       "      <td>0.0</td>\n",
       "      <td>0.0</td>\n",
       "      <td>0.0</td>\n",
       "      <td>0.0</td>\n",
       "      <td>0.0</td>\n",
       "      <td>1.0</td>\n",
       "      <td>0.0</td>\n",
       "      <td>normal</td>\n",
       "    </tr>\n",
       "    <tr>\n",
       "      <th>9</th>\n",
       "      <td>0.0</td>\n",
       "      <td>1.488371e-06</td>\n",
       "      <td>0.000000</td>\n",
       "      <td>0.0</td>\n",
       "      <td>0.0</td>\n",
       "      <td>0.0</td>\n",
       "      <td>0.0</td>\n",
       "      <td>0.0</td>\n",
       "      <td>0.0</td>\n",
       "      <td>0.0</td>\n",
       "      <td>...</td>\n",
       "      <td>0.0</td>\n",
       "      <td>0.0</td>\n",
       "      <td>0.0</td>\n",
       "      <td>0.0</td>\n",
       "      <td>0.0</td>\n",
       "      <td>0.0</td>\n",
       "      <td>0.0</td>\n",
       "      <td>1.0</td>\n",
       "      <td>0.0</td>\n",
       "      <td>dos</td>\n",
       "    </tr>\n",
       "  </tbody>\n",
       "</table>\n",
       "<p>10 rows × 116 columns</p>\n",
       "</div>\n",
       "      <button class=\"colab-df-convert\" onclick=\"convertToInteractive('df-dee993c3-de50-4761-8f91-ccb3f71bd61e')\"\n",
       "              title=\"Convert this dataframe to an interactive table.\"\n",
       "              style=\"display:none;\">\n",
       "        \n",
       "  <svg xmlns=\"http://www.w3.org/2000/svg\" height=\"24px\"viewBox=\"0 0 24 24\"\n",
       "       width=\"24px\">\n",
       "    <path d=\"M0 0h24v24H0V0z\" fill=\"none\"/>\n",
       "    <path d=\"M18.56 5.44l.94 2.06.94-2.06 2.06-.94-2.06-.94-.94-2.06-.94 2.06-2.06.94zm-11 1L8.5 8.5l.94-2.06 2.06-.94-2.06-.94L8.5 2.5l-.94 2.06-2.06.94zm10 10l.94 2.06.94-2.06 2.06-.94-2.06-.94-.94-2.06-.94 2.06-2.06.94z\"/><path d=\"M17.41 7.96l-1.37-1.37c-.4-.4-.92-.59-1.43-.59-.52 0-1.04.2-1.43.59L10.3 9.45l-7.72 7.72c-.78.78-.78 2.05 0 2.83L4 21.41c.39.39.9.59 1.41.59.51 0 1.02-.2 1.41-.59l7.78-7.78 2.81-2.81c.8-.78.8-2.07 0-2.86zM5.41 20L4 18.59l7.72-7.72 1.47 1.35L5.41 20z\"/>\n",
       "  </svg>\n",
       "      </button>\n",
       "      \n",
       "  <style>\n",
       "    .colab-df-container {\n",
       "      display:flex;\n",
       "      flex-wrap:wrap;\n",
       "      gap: 12px;\n",
       "    }\n",
       "\n",
       "    .colab-df-convert {\n",
       "      background-color: #E8F0FE;\n",
       "      border: none;\n",
       "      border-radius: 50%;\n",
       "      cursor: pointer;\n",
       "      display: none;\n",
       "      fill: #1967D2;\n",
       "      height: 32px;\n",
       "      padding: 0 0 0 0;\n",
       "      width: 32px;\n",
       "    }\n",
       "\n",
       "    .colab-df-convert:hover {\n",
       "      background-color: #E2EBFA;\n",
       "      box-shadow: 0px 1px 2px rgba(60, 64, 67, 0.3), 0px 1px 3px 1px rgba(60, 64, 67, 0.15);\n",
       "      fill: #174EA6;\n",
       "    }\n",
       "\n",
       "    [theme=dark] .colab-df-convert {\n",
       "      background-color: #3B4455;\n",
       "      fill: #D2E3FC;\n",
       "    }\n",
       "\n",
       "    [theme=dark] .colab-df-convert:hover {\n",
       "      background-color: #434B5C;\n",
       "      box-shadow: 0px 1px 3px 1px rgba(0, 0, 0, 0.15);\n",
       "      filter: drop-shadow(0px 1px 2px rgba(0, 0, 0, 0.3));\n",
       "      fill: #FFFFFF;\n",
       "    }\n",
       "  </style>\n",
       "\n",
       "      <script>\n",
       "        const buttonEl =\n",
       "          document.querySelector('#df-dee993c3-de50-4761-8f91-ccb3f71bd61e button.colab-df-convert');\n",
       "        buttonEl.style.display =\n",
       "          google.colab.kernel.accessAllowed ? 'block' : 'none';\n",
       "\n",
       "        async function convertToInteractive(key) {\n",
       "          const element = document.querySelector('#df-dee993c3-de50-4761-8f91-ccb3f71bd61e');\n",
       "          const dataTable =\n",
       "            await google.colab.kernel.invokeFunction('convertToInteractive',\n",
       "                                                     [key], {});\n",
       "          if (!dataTable) return;\n",
       "\n",
       "          const docLinkHtml = 'Like what you see? Visit the ' +\n",
       "            '<a target=\"_blank\" href=https://colab.research.google.com/notebooks/data_table.ipynb>data table notebook</a>'\n",
       "            + ' to learn more about interactive tables.';\n",
       "          element.innerHTML = '';\n",
       "          dataTable['output_type'] = 'display_data';\n",
       "          await google.colab.output.renderOutput(dataTable, element);\n",
       "          const docLink = document.createElement('div');\n",
       "          docLink.innerHTML = docLinkHtml;\n",
       "          element.appendChild(docLink);\n",
       "        }\n",
       "      </script>\n",
       "    </div>\n",
       "  </div>\n",
       "  "
      ],
      "text/plain": [
       "   duration     src_bytes  dst_bytes  land  wrong_fragment  urgent  hot  \\\n",
       "0       0.0  1.488371e-06   0.000000   0.0             0.0     0.0  0.0   \n",
       "1       0.0  7.499542e-07   0.000000   0.0             0.0     0.0  0.0   \n",
       "2       0.0  4.730481e-07   0.000044   0.0             0.0     0.0  0.0   \n",
       "3       0.0  1.488371e-06   0.000000   0.0             0.0     0.0  0.0   \n",
       "4       0.0  0.000000e+00   0.000000   0.0             0.0     0.0  0.0   \n",
       "5       0.0  1.488371e-06   0.000000   0.0             0.0     0.0  0.0   \n",
       "6       0.0  1.488371e-06   0.000000   0.0             0.0     0.0  0.0   \n",
       "7       0.0  0.000000e+00   0.000000   0.0             0.0     0.0  0.0   \n",
       "8       0.0  9.129251e-07   0.000064   0.0             0.0     0.0  0.0   \n",
       "9       0.0  1.488371e-06   0.000000   0.0             0.0     0.0  0.0   \n",
       "\n",
       "   num_failed_logins  logged_in  num_compromised  ...  flag_RSTO  flag_RSTOS0  \\\n",
       "0                0.0        0.0              0.0  ...        0.0          0.0   \n",
       "1                0.0        0.0              0.0  ...        0.0          0.0   \n",
       "2                0.0        1.0              0.0  ...        0.0          0.0   \n",
       "3                0.0        0.0              0.0  ...        0.0          0.0   \n",
       "4                0.0        0.0              0.0  ...        0.0          0.0   \n",
       "5                0.0        0.0              0.0  ...        0.0          0.0   \n",
       "6                0.0        0.0              0.0  ...        0.0          0.0   \n",
       "7                0.0        0.0              0.0  ...        0.0          0.0   \n",
       "8                0.0        1.0              0.0  ...        0.0          0.0   \n",
       "9                0.0        0.0              0.0  ...        0.0          0.0   \n",
       "\n",
       "   flag_RSTR  flag_S0  flag_S1  flag_S2  flag_S3  flag_SF  flag_SH  labels  \n",
       "0        0.0      0.0      0.0      0.0      0.0      1.0      0.0     dos  \n",
       "1        0.0      0.0      0.0      0.0      0.0      1.0      0.0     dos  \n",
       "2        0.0      0.0      0.0      0.0      0.0      1.0      0.0  normal  \n",
       "3        0.0      0.0      0.0      0.0      0.0      1.0      0.0     dos  \n",
       "4        0.0      1.0      0.0      0.0      0.0      0.0      0.0     dos  \n",
       "5        0.0      0.0      0.0      0.0      0.0      1.0      0.0     dos  \n",
       "6        0.0      0.0      0.0      0.0      0.0      1.0      0.0     dos  \n",
       "7        0.0      1.0      0.0      0.0      0.0      0.0      0.0     dos  \n",
       "8        0.0      0.0      0.0      0.0      0.0      1.0      0.0  normal  \n",
       "9        0.0      0.0      0.0      0.0      0.0      1.0      0.0     dos  \n",
       "\n",
       "[10 rows x 116 columns]"
      ]
     },
     "execution_count": 7,
     "metadata": {},
     "output_type": "execute_result"
    }
   ],
   "source": [
    "# Let's join them all...\n",
    "dfs = pd.concat([pd.DataFrame(X_scaled, columns=df_number.columns), pd.DataFrame(X_encoded, columns=column_name), context], axis=1, join='inner')\n",
    "dfs.head(10)"
   ]
  },
  {
   "cell_type": "markdown",
   "metadata": {
    "id": "WUM7OMxVPIVE"
   },
   "source": [
    "### Dealing with missing data"
   ]
  },
  {
   "cell_type": "code",
   "execution_count": 14,
   "metadata": {
    "colab": {
     "base_uri": "https://localhost:8080/"
    },
    "id": "PeCHfz-jPH73",
    "outputId": "37ed97a0-6ea6-499d-deab-4aebd06bf898"
   },
   "outputs": [
    {
     "data": {
      "text/plain": [
       "duration                       0\n",
       "protocol_type                  0\n",
       "service                        0\n",
       "flag                           0\n",
       "src_bytes                      0\n",
       "dst_bytes                      0\n",
       "land                           0\n",
       "wrong_fragment                 0\n",
       "urgent                         0\n",
       "hot                            0\n",
       "num_failed_logins              0\n",
       "logged_in                      0\n",
       "num_compromised                0\n",
       "root_shell                     0\n",
       "su_attempted                   0\n",
       "num_root                       0\n",
       "num_file_creations             0\n",
       "num_shells                     0\n",
       "num_access_files               0\n",
       "num_outbound_cmds              0\n",
       "is_host_login                  0\n",
       "is_guest_login                 0\n",
       "count                          0\n",
       "srv_count                      0\n",
       "serror_rate                    0\n",
       "srv_serror_rate                0\n",
       "rerror_rate                    0\n",
       "srv_rerror_rate                0\n",
       "same_srv_rate                  0\n",
       "diff_srv_rate                  0\n",
       "srv_diff_host_rate             0\n",
       "dst_host_count                 0\n",
       "dst_host_srv_count             0\n",
       "dst_host_same_srv_rate         0\n",
       "dst_host_diff_srv_rate         0\n",
       "dst_host_same_src_port_rate    0\n",
       "dst_host_srv_diff_host_rate    0\n",
       "dst_host_serror_rate           0\n",
       "dst_host_srv_serror_rate       0\n",
       "dst_host_rerror_rate           0\n",
       "dst_host_srv_rerror_rate       0\n",
       "class_type                     0\n",
       "dtype: int64"
      ]
     },
     "execution_count": 14,
     "metadata": {},
     "output_type": "execute_result"
    }
   ],
   "source": [
    "# checking null data\n",
    "df.isnull().sum()"
   ]
  },
  {
   "cell_type": "markdown",
   "metadata": {
    "id": "CpBN-aM_Pbzl"
   },
   "source": [
    "Since there is no missing data in the model, this part will not need to be addressed. Zeros will also not be handled, as these values ​​are part of the problem."
   ]
  },
  {
   "cell_type": "markdown",
   "metadata": {
    "id": "Dukd4fOIuq94"
   },
   "source": [
    "### Split into training set and test set\n",
    "\n",
    "In this step, we will split the data into a training set, used in building the model, and a test set, used later to confirm the accuracy of the final model. In this test, we will be able to verify the quality of the built model, since these data is new to the model. We will use 70% of the data set for modeling and keep 20% for a first test, this set defined as validation. In this way, we will use the train-test-split strategy. Initially, we will separate the class from the others attributes, later, we will specify the size of the desired test set and a seed (to guarantee the reproducibility of the results). Finally, we will separate the training and test sets through the train_test_split command, which will return 4 data structures: the attributes and classes for the test set and attributes and classes for the training set. We will also carry out the cross-validation procedure in the process, which consists of dividing the model to test different combinations. The remaining 10% of the dataset is used at the end of the project to confirm the accuracy of the final model."
   ]
  },
  {
   "cell_type": "code",
   "execution_count": null,
   "metadata": {
    "colab": {
     "base_uri": "https://localhost:8080/"
    },
    "deletable": false,
    "editable": false,
    "id": "A8BNNvZNxYE7",
    "outputId": "4f6746a4-9bc4-4e92-b4d2-653ab3b0c3e6"
   },
   "outputs": [
    {
     "name": "stdout",
     "output_type": "stream",
     "text": [
      "[[0.0 1.4883707192251517e-06 0.0 ... 0.0 1.0 0.0]\n",
      " [0.0 0.0 0.0 ... 0.0 0.0 0.0]\n",
      " [0.0 1.4883707192251517e-06 0.0 ... 0.0 1.0 0.0]\n",
      " ...\n",
      " [0.0 7.499542383692626e-07 0.0 ... 0.0 1.0 0.0]\n",
      " [0.0 2.036414201110382e-06 6.49795518079057e-05 ... 0.0 1.0 0.0]\n",
      " [0.0 7.499542383692626e-07 0.0 ... 0.0 1.0 0.0]] [[0.0 0.0 0.0 ... 0.0 0.0 0.0]\n",
      " [0.0 1.4883707192251517e-06 0.0 ... 0.0 1.0 0.0]\n",
      " [0.0 0.0 0.0 ... 0.0 0.0 0.0]\n",
      " ...\n",
      " [0.0 1.4883707192251517e-06 0.0 ... 0.0 1.0 0.0]\n",
      " [0.0 7.499542383692626e-07 0.0 ... 0.0 1.0 0.0]\n",
      " [0.0 1.4883707192251517e-06 0.0 ... 0.0 1.0 0.0]] [[0.0 1.4883707192251517e-06 0.0 ... 0.0 1.0 0.0]\n",
      " [0.0 0.0 0.0 ... 0.0 0.0 0.0]\n",
      " [0.0 0.0 0.0 ... 0.0 0.0 0.0]\n",
      " ...\n",
      " [0.0 0.0 0.0 ... 0.0 0.0 0.0]\n",
      " [0.0 0.0 0.0 ... 0.0 0.0 0.0]\n",
      " [0.0 7.499542383692626e-07 0.0 ... 0.0 1.0 0.0]]\n"
     ]
    }
   ],
   "source": [
    "# Splitting into training and test sets\n",
    "array = dfs.values\n",
    "X = array[:,0:115]\n",
    "Y = array[:,115]\n",
    "\n",
    "# Parameters for splitting data\n",
    "train_ratio = 0.70\n",
    "validation_ratio = 0.20\n",
    "test_ratio = 0.10\n",
    "seed = 7\n",
    "\n",
    "# Training set is 70% of data as default\n",
    "x_train, x_test, y_train, y_test = train_test_split(X, Y, test_size=(1 - train_ratio), random_state=seed)\n",
    "\n",
    "# Final test set is 10% from initial data\n",
    "# Validation set is 20% from initial data\n",
    "x_val, x_test, y_val, y_test = train_test_split(x_test, y_test, test_size=(test_ratio/(test_ratio + validation_ratio)), random_state=seed) \n",
    "\n",
    "print(x_train, x_val, x_test)"
   ]
  },
  {
   "cell_type": "markdown",
   "metadata": {
    "id": "SIYJRfWLoAzV"
   },
   "source": [
    "The code above was refactored as follows:"
   ]
  },
  {
   "cell_type": "code",
   "execution_count": 6,
   "metadata": {
    "id": "Gves2dXVoBf0"
   },
   "outputs": [
    {
     "name": "stdout",
     "output_type": "stream",
     "text": [
      "23369 train examples\n",
      "11686 validation examples\n",
      "15025 test examples\n"
     ]
    }
   ],
   "source": [
    "# Parameters\n",
    "train_size = 0.7\n",
    "test_size = 0.2\n",
    "\n",
    "# Preprocessing\n",
    "X_train, X_val, X_test, Y_train, Y_val, Y_test = preprocessor.preprocess(df, train_size, test_size)"
   ]
  },
  {
   "cell_type": "markdown",
   "metadata": {
    "id": "1EKqXDscN_bA"
   },
   "source": [
    "## 7. Feature Selection\n",
    "\n",
    "This step is of fundamental importance in evaluating the model, as it is through this that we will define the essential variables to generate the classifier, in order to reduce computational costs and refine the model with the most relevant features."
   ]
  },
  {
   "cell_type": "markdown",
   "metadata": {
    "id": "JMjlUJNyscfi"
   },
   "source": [
    "### Univariate Selection\n",
    "\n",
    "The **SelectKBest()** function can be used with various statistical tests to select attributes. Let's use the chi-square test and select the 20 best attributes that can be used in prediction."
   ]
  },
  {
   "cell_type": "code",
   "execution_count": 33,
   "metadata": {
    "id": "AWv9ICh0mD10"
   },
   "outputs": [],
   "source": [
    "# number of features\n",
    "k_ftr = 10"
   ]
  },
  {
   "cell_type": "code",
   "execution_count": null,
   "metadata": {
    "colab": {
     "base_uri": "https://localhost:8080/"
    },
    "deletable": false,
    "editable": false,
    "id": "WBGoLdCEs37R",
    "outputId": "f6c648b8-f9bc-4fa8-efd3-a39c4b469ef6"
   },
   "outputs": [],
   "source": [
    "# Feature selection method 1\n",
    "best_var = SelectKBest(score_func=chi2, k=k_ftr)\n",
    "\n",
    "# Set scoring to the pair (X, Y) and get selected feats\n",
    "fit = best_var.fit(X, Y)\n",
    "\n",
    "# Feature set reduction\n",
    "features = fit.transform(X)\n",
    "\n",
    "# Results\n",
    "print('\\nDataset feature number:', X.shape[1])\n",
    "print('\\nReduced feature number:', features.shape[1])\n",
    "\n",
    "# Display feature scoring\n",
    "np.set_printoptions(precision=3) # 1e-3 precision\n",
    "print(fit.scores_)\n",
    "\n",
    "# Print selected features\n",
    "print(features)\n",
    "\n",
    "# order by 20 best\n",
    "sorted_attr_KB = 114 - np.argsort(fit.scores_)\n",
    "print(sorted_attr_KB)\n",
    "\n",
    "# display selected features name\n",
    "print(dfs.columns[sorted_attr_KB[0:k_ftr]])"
   ]
  },
  {
   "cell_type": "markdown",
   "metadata": {
    "id": "fhQKfLSF6oow"
   },
   "source": [
    "### Feature Relevance with ExtraTrees\n",
    "\n",
    "Building the ExtraTreesClassifier."
   ]
  },
  {
   "cell_type": "code",
   "execution_count": null,
   "metadata": {
    "colab": {
     "base_uri": "https://localhost:8080/"
    },
    "deletable": false,
    "editable": false,
    "id": "wHn5x-9M68HS",
    "outputId": "ab19e027-a7a6-41d2-c26a-e4395dcf23d4"
   },
   "outputs": [
    {
     "name": "stdout",
     "output_type": "stream",
     "text": [
      "[1.338e-03 1.285e-02 1.134e-03 1.804e-05 5.116e-03 9.453e-06 9.241e-03\n",
      " 1.301e-04 1.118e-01 4.622e-03 1.145e-04 5.105e-06 7.967e-05 4.900e-05\n",
      " 1.953e-05 5.771e-05 0.000e+00 0.000e+00 5.219e-04 1.277e-01 4.952e-02\n",
      " 2.322e-02 3.184e-03 7.908e-03 9.720e-03 3.952e-02 5.184e-03 1.578e-02\n",
      " 7.493e-02 2.091e-02 1.251e-02 1.031e-02 5.662e-02 4.069e-03 1.334e-02\n",
      " 1.564e-02 6.202e-03 8.432e-03 4.118e-02 2.045e-02 5.180e-06 9.052e-11\n",
      " 1.992e-05 3.879e-06 2.792e-06 6.767e-06 5.683e-07 1.101e-07 4.543e-06\n",
      " 4.770e-06 7.306e-03 1.918e-07 4.070e-03 8.344e-02 8.765e-07 9.000e-07\n",
      " 1.111e-04 6.268e-04 2.555e-03 8.653e-06 8.061e-07 8.873e-02 2.466e-07\n",
      " 3.464e-05 6.845e-07 5.522e-07 3.682e-10 4.292e-07 9.783e-07 7.993e-06\n",
      " 2.220e-06 2.438e-07 1.023e-10 3.993e-07 7.453e-07 3.153e-06 5.005e-07\n",
      " 4.838e-06 1.752e-04 1.096e-02 1.358e-06 4.943e-14 1.117e-05 1.137e-07\n",
      " 2.245e-02 5.987e-08 1.049e-06 5.423e-06 1.407e-06 5.412e-03 4.200e-09\n",
      " 1.390e-06 1.382e-06 3.524e-06 3.806e-06 1.663e-04 1.031e-06 2.337e-05\n",
      " 1.552e-05 4.998e-06 3.767e-04 5.261e-06 9.978e-07 1.658e-07 4.991e-07\n",
      " 3.978e-03 3.133e-04 1.594e-05 2.313e-03 1.879e-02 2.518e-05 9.733e-06\n",
      " 4.930e-06 3.441e-02 2.216e-04]\n",
      "[ 97  98  33  73  42  48  24  29  67  31  11  63  43  52  41  47  10  38\n",
      "  49  68  50  40  54  60  59  46  12  18  28  34  22  23  26  44  70  39\n",
      "  21  20  71  66  65  37   2  15 103  74  13  27  69  45  55 109   3  32\n",
      "  16   7 111 100  72  17   4  51 101  99 102  58 104 107  19  36   0   8\n",
      "  14  96  57 112 114   6  56  92   9  81  62 105 110  88  25  78  64  91\n",
      "  77 108  90  83  35  84 113  80  79  87   5  75  85  30  93   1  89  76\n",
      "  94  82  86  61  53 106  95]\n",
      "Index(['service_tim_i', 'service_time', 'dst_host_srv_diff_host_rate',\n",
      "       'service_netbios_ns', 'service_auth', 'service_discard',\n",
      "       'srv_rerror_rate', 'dst_host_srv_count', 'service_ldap',\n",
      "       'dst_host_diff_srv_rate'],\n",
      "      dtype='object')\n"
     ]
    }
   ],
   "source": [
    "# Build a model for feature selection\n",
    "modelo = ExtraTreesClassifier(n_estimators=100)\n",
    "modelo.fit(X, Y)\n",
    "# Display feature importance score (the greater is the score, more important is the feature). \n",
    "print(modelo.feature_importances_)\n",
    "\n",
    "# order by 20 best\n",
    "sorted_attr_ET = 114 - np.argsort(modelo.feature_importances_)\n",
    "print(sorted_attr_ET)\n",
    "\n",
    "# display selected features name\n",
    "print(dfs.columns[sorted_attr_ET[0:k_ftr]])"
   ]
  },
  {
   "cell_type": "markdown",
   "metadata": {
    "id": "XZyxqQaF2zXq"
   },
   "source": [
    "Note that these two methods have selected very different features, leading to alternative points of view in our model construction."
   ]
  },
  {
   "cell_type": "markdown",
   "metadata": {
    "id": "c43FzEbqoTfp"
   },
   "source": [
    "In the code, features are presented as follows:"
   ]
  },
  {
   "cell_type": "code",
   "execution_count": 7,
   "metadata": {
    "colab": {
     "base_uri": "https://localhost:8080/"
    },
    "id": "uwnOyJsRoV0h",
    "outputId": "833253bd-d76e-4f65-d539-11714be1c33e"
   },
   "outputs": [
    {
     "name": "stdout",
     "output_type": "stream",
     "text": [
      "\n",
      "Original feature set size: 115\n",
      "\n",
      "Reduced set size: 20\n",
      "[ 32  18   6  19  29  30  25   8  10  22  34  35  21  17   5  85  97  80\n",
      " 112  16]\n",
      "[26  1 33  4 37 36 23 24 28 31 32  8 29 19 22 21 34 35 30 25]\n"
     ]
    }
   ],
   "source": [
    "# feature numbers\n",
    "k_ftr = 20\n",
    "# Feature selection\n",
    "sorted_attr_KB = feat_selector.selectChiSquare(X_train, Y_train, k_ftr)\n",
    "print(sorted_attr_KB)\n",
    "sorted_attr_ET = feat_selector.selectExtraTrees(X_train, Y_train, k_ftr)\n",
    "print(sorted_attr_ET)"
   ]
  },
  {
   "cell_type": "markdown",
   "metadata": {
    "id": "Fa7vIN-lP292"
   },
   "source": [
    "## 8. Classification models"
   ]
  },
  {
   "cell_type": "markdown",
   "metadata": {
    "id": "DNSjfmArgeGg"
   },
   "source": [
    "### Model creation and evaluation: cross-validation\n",
    "\n",
    "To analyze the performance of the models on this dataset, we will use 10-fold cross-validation and evaluate the models using the *accuracy* metric. Let's initially configure the number of folds and evaluation metrics parameters."
   ]
  },
  {
   "cell_type": "code",
   "execution_count": 8,
   "metadata": {
    "id": "L_3pV42qghVU"
   },
   "outputs": [],
   "source": [
    "# Parameters\n",
    "num_folds = 10\n",
    "scoring = 'accuracy'"
   ]
  },
  {
   "cell_type": "markdown",
   "metadata": {
    "id": "yqfpIrMugmXI"
   },
   "source": [
    "Five classic machine learning algorithms are evaluated in the construction of models, including a classifier based on logistic regression, a decision tree, a Bayesian estimator based on Gaussians, a linear discriminant and a linear SVM estimator. k-NN was not used because of its prohibitive performance in high-dimensional problems as well as the traditional SVM, which has the same problem."
   ]
  },
  {
   "cell_type": "code",
   "execution_count": 9,
   "metadata": {},
   "outputs": [
    {
     "name": "stdout",
     "output_type": "stream",
     "text": [
      "[('Chi-2', array([ 32,  18,   6,  19,  29,  30,  25,   8,  10,  22,  34,  35,  21,\n",
      "        17,   5,  85,  97,  80, 112,  16])), ('XTrees', array([26,  1, 33,  4, 37, 36, 23, 24, 28, 31, 32,  8, 29, 19, 22, 21, 34,\n",
      "       35, 30, 25])), ('None', None)]\n"
     ]
    }
   ],
   "source": [
    "# Generating models\n",
    "selector = []\n",
    "selector.append(('Chi-2', sorted_attr_KB))\n",
    "selector.append(('XTrees', sorted_attr_ET))\n",
    "selector.append(('None', None))\n",
    "print(selector)"
   ]
  },
  {
   "cell_type": "markdown",
   "metadata": {
    "id": "-bL--NGciKOq"
   },
   "source": [
    "Several models were prepared for execution."
   ]
  },
  {
   "cell_type": "code",
   "execution_count": 10,
   "metadata": {},
   "outputs": [
    {
     "name": "stdout",
     "output_type": "stream",
     "text": [
      "Generating classification for Chi-2\n",
      "Generating classification for XTrees\n",
      "Generating classification for None\n",
      "Pronto!\n"
     ]
    }
   ],
   "source": [
    "feat_select_models = []\n",
    "for name, features in selector:\n",
    "    print(\"Generating classification for\", name)\n",
    "    ml_batch_builder = MlBatchBuilder(features)\n",
    "    ml_batch_builder.insert_model(WekaModel(\"weka.classifiers.trees.J48\"), X_train, Y_train)    # DTs\n",
    "    ml_batch_builder.insert_model(WekaModel(\"weka.classifiers.functions.SMO\"), X_train, Y_train) # SVM\n",
    "    ml_batch_builder.insert_model(WekaModel(\"weka.classifiers.lazy.IBk\"), X_train, Y_train)  # kNN - k = 1\n",
    "    ml_batch_builder.insert_model(WekaModel(\"weka.classifiers.trees.RandomForest\"), X_train, Y_train) # Random Forests\n",
    "    ml_batch_builder.insert_model(WekaModel(\"weka.classifiers.bayes.NaiveBayes\"), X_train, Y_train) # Naive Bayes        ml_batch_builder.insert_model(WekaModel(\"weka.classifiers.functions.MultilayerPerceptron\"), X_train, Y_train)\n",
    "    feat_select_models.append((name, ml_batch_builder))\n",
    "print(\"Done!\")"
   ]
  },
  {
   "cell_type": "markdown",
   "metadata": {},
   "source": [
    "In this context, we will evaluate the models with cross-validation and based on each feature selection method used previously, we have the results for each classifier, with model 1 using features chosen by chi-square and model 2 using the ones chosen by ExtraTrees."
   ]
  },
  {
   "cell_type": "code",
   "execution_count": 11,
   "metadata": {
    "colab": {
     "base_uri": "https://localhost:8080/"
    },
    "id": "S6GB0fN6iK13",
    "outputId": "3546f452-612d-44b0-f7b2-a9a7195ca8a1"
   },
   "outputs": [
    {
     "name": "stdout",
     "output_type": "stream",
     "text": [
      "\n",
      "Model Chi-2:\n",
      "\n",
      "J48: 0.988677 (0.002172)\n",
      "SMO: 0.970331 (0.002634)\n",
      "IBk: 0.987954 (0.002611)\n",
      "RandomForest: 0.990806 (0.001662)\n",
      "NaiveBayes: 0.921381 (0.006246)\n",
      "\n",
      "Model XTrees:\n",
      "\n",
      "J48: 0.994722 (0.001028)\n",
      "SMO: 0.981313 (0.001899)\n",
      "IBk: 0.993104 (0.001668)\n",
      "RandomForest: 0.997872 (0.000571)\n",
      "NaiveBayes: 0.925169 (0.005809)\n",
      "\n",
      "Model None:\n",
      "\n",
      "J48: 0.996084 (0.001123)\n",
      "SMO: 0.984080 (0.001663)\n",
      "IBk: 0.989231 (0.002171)\n",
      "RandomForest: 0.997914 (0.000553)\n",
      "NaiveBayes: 0.911080 (0.005662)\n"
     ]
    }
   ],
   "source": [
    "np.random.seed(7) # seed setting\n",
    "\n",
    "# Model evaluation\n",
    "set_results = []\n",
    "set_names = []\n",
    "for s_name, s_model in feat_select_models:\n",
    "  results = []\n",
    "  names = []\n",
    "  print(\"\\nModel %s:\\n\" % s_name)\n",
    "  for m_name, m_model in s_model.get_models():\n",
    "    X_selected = s_model.set_features(X_train)\n",
    "    cv_results = ml_eval.\\\n",
    "    evaluate_cross_validation(m_model, X_selected, Y_train, \\\n",
    "                              num_folds, scoring)\n",
    "    results.append(cv_results)\n",
    "    names.append(m_name)\n",
    "    msg = \"%s: %f (%f)\" % (m_name, cv_results.mean(), cv_results.std())\n",
    "    print(msg)\n",
    "  set_results.append(results)\n",
    "  set_names.append(names)"
   ]
  },
  {
   "cell_type": "markdown",
   "metadata": {
    "id": "p3Cw3lhIO97z"
   },
   "source": [
    "The logistic regression, decision trees, linear discriminant and SVM methods achieved good results with the first feature selection model, Naive Bayes had an average performance, but had a larger standard deviation. The second model did not present significant differences in relation to the first, both presented a very similar performance."
   ]
  },
  {
   "cell_type": "markdown",
   "metadata": {
    "id": "3UH7bPzY3rPt"
   },
   "source": [
    "After execution, all algorithms are further compared."
   ]
  },
  {
   "cell_type": "code",
   "execution_count": 13,
   "metadata": {
    "colab": {
     "base_uri": "https://localhost:8080/",
     "height": 294
    },
    "id": "iao83xpH-F8l",
    "outputId": "88af3253-2e17-49cc-b4c8-fa9078281b0f"
   },
   "outputs": [
    {
     "data": {
      "image/png": "[encoded data removed]",
      "text/plain": [
       "<Figure size 1728x1296 with 3 Axes>"
      ]
     },
     "metadata": {
      "needs_background": "light"
     },
     "output_type": "display_data"
    }
   ],
   "source": [
    "# Model comparison\n",
    "plt.rcParams[\"figure.figsize\"] = (24,18)\n",
    "fig = plt.figure() \n",
    "fig.suptitle('Model comparison') \n",
    "# all classifiers\n",
    "ax = fig.add_subplot(131) \n",
    "plt.title('Chi-2 model') \n",
    "plt.boxplot(set_results[0]) \n",
    "ax.set_xticklabels(set_names[0]) \n",
    "ax = fig.add_subplot(132) \n",
    "plt.title('Xtree model') \n",
    "plt.boxplot(set_results[1]) \n",
    "ax.set_xticklabels(set_names[1]) \n",
    "ax = fig.add_subplot(133) \n",
    "plt.title('No feature selection') \n",
    "plt.boxplot(set_results[2]) \n",
    "ax.set_xticklabels(set_names[2]) \n",
    "plt.show()"
   ]
  },
  {
   "cell_type": "markdown",
   "metadata": {
    "id": "iMsbTm5_setY"
   },
   "source": [
    "### Model creation and evaluation: validation data testing"
   ]
  },
  {
   "cell_type": "markdown",
   "metadata": {
    "id": "5E-delgQL3ce"
   },
   "source": [
    "Once cross-validation has been performed, now we run each algorithm applying it to the validation data for a complete analysis. It is worth noting that there are not many parameter adjustments to be made at the time.\n",
    "\n",
    "```\n",
    "# Perform training and use validation data for testing\n",
    "for s_name, s_model in selector:\n",
    "  print(\"\\nModel %s:\\n\" % s_name)\n",
    "  for m_name, m_model in models:\n",
    "    set_model = m_model\n",
    "    set_model.fit(x_train, y_train)\n",
    "    predictions = set_model.predict(x_val)\n",
    "    print(\"\\nAlgorithm %s:\\n\" % m_name)\n",
    "    print(accuracy_score(y_val, predictions))\n",
    "    print(confusion_matrix(y_val, predictions))\n",
    "    print(classification_report(y_val, predictions))\n",
    "```"
   ]
  },
  {
   "cell_type": "code",
   "execution_count": 11,
   "metadata": {
    "colab": {
     "base_uri": "https://localhost:8080/"
    },
    "id": "M3FDrH0KMcza",
    "outputId": "988b9c3a-3a45-4dbc-f5a8-375dba0d8137"
   },
   "outputs": [
    {
     "name": "stdout",
     "output_type": "stream",
     "text": [
      "\n",
      "Model Chi-2:\n",
      "\n",
      "\n",
      "Algorithm: J48\n",
      "\n",
      "0.9854381333560419\n",
      "[[5209   19    2    2    4]\n",
      " [  23 6203   13    4    0]\n",
      " [   2   92   94    0    0]\n",
      " [   0    8    0   63    1]\n",
      " [   0    1    0    0    3]]\n",
      "              precision    recall  f1-score   support\n",
      "\n",
      "        _dos       1.00      0.99      1.00      5236\n",
      "     _normal       0.98      0.99      0.99      6243\n",
      "      _probe       0.86      0.50      0.63       188\n",
      "        _r2l       0.91      0.88      0.89        72\n",
      "        _u2r       0.38      0.75      0.50         4\n",
      "\n",
      "    accuracy                           0.99     11743\n",
      "   macro avg       0.83      0.82      0.80     11743\n",
      "weighted avg       0.98      0.99      0.98     11743\n",
      "\n",
      "\n",
      "Algorithm: SMO\n",
      "\n",
      "0.9743677084220387\n",
      "[[5084  151    0    1    0]\n",
      " [   8 6222    0   13    0]\n",
      " [   5  112   71    0    0]\n",
      " [   0   10    0   61    1]\n",
      " [   0    0    0    0    4]]\n",
      "              precision    recall  f1-score   support\n",
      "\n",
      "        _dos       1.00      0.97      0.98      5236\n",
      "     _normal       0.96      1.00      0.98      6243\n",
      "      _probe       1.00      0.38      0.55       188\n",
      "        _r2l       0.81      0.85      0.83        72\n",
      "        _u2r       0.80      1.00      0.89         4\n",
      "\n",
      "    accuracy                           0.97     11743\n",
      "   macro avg       0.91      0.84      0.85     11743\n",
      "weighted avg       0.98      0.97      0.97     11743\n",
      "\n",
      "\n",
      "Algorithm: IBk\n",
      "\n",
      "0.9867154900791961\n",
      "[[5220   15    1    0    0]\n",
      " [  11 6199   24    8    1]\n",
      " [   4   80  104    0    0]\n",
      " [   1   10    0   60    1]\n",
      " [   0    0    0    0    4]]\n",
      "              precision    recall  f1-score   support\n",
      "\n",
      "        _dos       1.00      1.00      1.00      5236\n",
      "     _normal       0.98      0.99      0.99      6243\n",
      "      _probe       0.81      0.55      0.66       188\n",
      "        _r2l       0.88      0.83      0.86        72\n",
      "        _u2r       0.67      1.00      0.80         4\n",
      "\n",
      "    accuracy                           0.99     11743\n",
      "   macro avg       0.87      0.88      0.86     11743\n",
      "weighted avg       0.99      0.99      0.99     11743\n",
      "\n",
      "\n",
      "Algorithm: RandomForest\n",
      "\n",
      "0.9876522183428426\n",
      "[[5230    5    1    0    0]\n",
      " [  10 6202   28    3    0]\n",
      " [   5   80  103    0    0]\n",
      " [   0    8    1   62    1]\n",
      " [   2    1    0    0    1]]\n",
      "              precision    recall  f1-score   support\n",
      "\n",
      "        _dos       1.00      1.00      1.00      5236\n",
      "     _normal       0.99      0.99      0.99      6243\n",
      "      _probe       0.77      0.55      0.64       188\n",
      "        _r2l       0.95      0.86      0.91        72\n",
      "        _u2r       0.50      0.25      0.33         4\n",
      "\n",
      "    accuracy                           0.99     11743\n",
      "   macro avg       0.84      0.73      0.77     11743\n",
      "weighted avg       0.99      0.99      0.99     11743\n",
      "\n",
      "\n",
      "Algorithm: NaiveBayes\n",
      "\n",
      "0.8997700757898323\n",
      "[[5025  112   79    0   20]\n",
      " [   2 5434  165   20  622]\n",
      " [   1   43   84    0   60]\n",
      " [   0    2    0   20   50]\n",
      " [   0    0    0    1    3]]\n",
      "              precision    recall  f1-score   support\n",
      "\n",
      "        _dos       1.00      0.96      0.98      5236\n",
      "     _normal       0.97      0.87      0.92      6243\n",
      "      _probe       0.26      0.45      0.33       188\n",
      "        _r2l       0.49      0.28      0.35        72\n",
      "        _u2r       0.00      0.75      0.01         4\n",
      "\n",
      "    accuracy                           0.90     11743\n",
      "   macro avg       0.54      0.66      0.52     11743\n",
      "weighted avg       0.97      0.90      0.93     11743\n",
      "\n",
      "\n",
      "Model XTrees:\n",
      "\n",
      "\n",
      "Algorithm: J48\n",
      "\n",
      "0.9959976156007835\n",
      "[[5229    4    1    2    0]\n",
      " [   4 6227    3    9    0]\n",
      " [   0    5  183    0    0]\n",
      " [   0   15    0   57    0]\n",
      " [   0    4    0    0    0]]\n",
      "              precision    recall  f1-score   support\n",
      "\n",
      "        _dos       1.00      1.00      1.00      5236\n",
      "     _normal       1.00      1.00      1.00      6243\n",
      "      _probe       0.98      0.97      0.98       188\n",
      "        _r2l       0.84      0.79      0.81        72\n",
      "        _u2r       0.00      0.00      0.00         4\n",
      "\n",
      "    accuracy                           1.00     11743\n",
      "   macro avg       0.76      0.75      0.76     11743\n",
      "weighted avg       1.00      1.00      1.00     11743\n",
      "\n",
      "\n",
      "Algorithm: SMO\n",
      "\n",
      "0.9847568764370264\n",
      "[[5154   81    0    1    0]\n",
      " [   5 6229    4    5    0]\n",
      " [   1   51  136    0    0]\n",
      " [   0   27    0   45    0]\n",
      " [   0    3    0    1    0]]\n",
      "              precision    recall  f1-score   support\n",
      "\n",
      "        _dos       1.00      0.98      0.99      5236\n",
      "     _normal       0.97      1.00      0.99      6243\n",
      "      _probe       0.97      0.72      0.83       188\n",
      "        _r2l       0.87      0.62      0.73        72\n",
      "        _u2r       0.00      0.00      0.00         4\n",
      "\n",
      "    accuracy                           0.98     11743\n",
      "   macro avg       0.76      0.67      0.71     11743\n",
      "weighted avg       0.98      0.98      0.98     11743\n",
      "\n",
      "\n",
      "Algorithm: IBk\n",
      "\n",
      "0.9939538448437367\n",
      "[[5221   14    1    0    0]\n",
      " [   8 6210    0   24    1]\n",
      " [   0    4  184    0    0]\n",
      " [   0   16    0   56    0]\n",
      " [   0    3    0    0    1]]\n",
      "              precision    recall  f1-score   support\n",
      "\n",
      "        _dos       1.00      1.00      1.00      5236\n",
      "     _normal       0.99      0.99      0.99      6243\n",
      "      _probe       0.99      0.98      0.99       188\n",
      "        _r2l       0.70      0.78      0.74        72\n",
      "        _u2r       0.50      0.25      0.33         4\n",
      "\n",
      "    accuracy                           0.99     11743\n",
      "   macro avg       0.84      0.80      0.81     11743\n",
      "weighted avg       0.99      0.99      0.99     11743\n",
      "\n",
      "\n",
      "Algorithm: RandomForest\n",
      "\n",
      "0.9982117005875841\n",
      "[[5231    4    1    0    0]\n",
      " [   0 6240    0    3    0]\n",
      " [   0    2  186    0    0]\n",
      " [   1    7    0   64    0]\n",
      " [   0    3    0    0    1]]\n",
      "              precision    recall  f1-score   support\n",
      "\n",
      "        _dos       1.00      1.00      1.00      5236\n",
      "     _normal       1.00      1.00      1.00      6243\n",
      "      _probe       0.99      0.99      0.99       188\n",
      "        _r2l       0.96      0.89      0.92        72\n",
      "        _u2r       1.00      0.25      0.40         4\n",
      "\n",
      "    accuracy                           1.00     11743\n",
      "   macro avg       0.99      0.83      0.86     11743\n",
      "weighted avg       1.00      1.00      1.00     11743\n",
      "\n",
      "\n",
      "Algorithm: NaiveBayes\n",
      "\n",
      "0.8370944392403985\n",
      "[[5061   88   83    0    4]\n",
      " [   0 4624  486   16 1117]\n",
      " [   1    3  133    0   51]\n",
      " [   0    4    2    9   57]\n",
      " [   0    0    0    1    3]]\n",
      "              precision    recall  f1-score   support\n",
      "\n",
      "        _dos       1.00      0.97      0.98      5236\n",
      "     _normal       0.98      0.74      0.84      6243\n",
      "      _probe       0.19      0.71      0.30       188\n",
      "        _r2l       0.35      0.12      0.18        72\n",
      "        _u2r       0.00      0.75      0.00         4\n",
      "\n",
      "    accuracy                           0.84     11743\n",
      "   macro avg       0.50      0.66      0.46     11743\n",
      "weighted avg       0.97      0.84      0.89     11743\n",
      "\n",
      "\n",
      "Model None:\n",
      "\n",
      "\n",
      "Algorithm: J48\n",
      "\n",
      "0.9970195009793068\n",
      "[[5228    7    1    0    0]\n",
      " [   3 6237    1    2    0]\n",
      " [   0    9  179    0    0]\n",
      " [   0    8    0   63    1]\n",
      " [   0    3    0    0    1]]\n",
      "              precision    recall  f1-score   support\n",
      "\n",
      "        _dos       1.00      1.00      1.00      5236\n",
      "     _normal       1.00      1.00      1.00      6243\n",
      "      _probe       0.99      0.95      0.97       188\n",
      "        _r2l       0.97      0.88      0.92        72\n",
      "        _u2r       0.50      0.25      0.33         4\n",
      "\n",
      "    accuracy                           1.00     11743\n",
      "   macro avg       0.89      0.81      0.84     11743\n",
      "weighted avg       1.00      1.00      1.00     11743\n",
      "\n",
      "\n",
      "Algorithm: SMO\n",
      "\n",
      "0.9871412756535809\n",
      "[[5150   84    2    0    0]\n",
      " [  15 6220    1    7    0]\n",
      " [   1   33  154    0    0]\n",
      " [   0    6    0   64    2]\n",
      " [   0    0    0    0    4]]\n",
      "              precision    recall  f1-score   support\n",
      "\n",
      "        _dos       1.00      0.98      0.99      5236\n",
      "     _normal       0.98      1.00      0.99      6243\n",
      "      _probe       0.98      0.82      0.89       188\n",
      "        _r2l       0.90      0.89      0.90        72\n",
      "        _u2r       0.67      1.00      0.80         4\n",
      "\n",
      "    accuracy                           0.99     11743\n",
      "   macro avg       0.91      0.94      0.91     11743\n",
      "weighted avg       0.99      0.99      0.99     11743\n",
      "\n",
      "\n",
      "Algorithm: IBk\n",
      "\n",
      "0.9904624031337819\n",
      "[[5197   37    1    1    0]\n",
      " [  27 6200    7    8    1]\n",
      " [   2   17  169    0    0]\n",
      " [   0    9    0   63    0]\n",
      " [   0    2    0    0    2]]\n",
      "              precision    recall  f1-score   support\n",
      "\n",
      "        _dos       0.99      0.99      0.99      5236\n",
      "     _normal       0.99      0.99      0.99      6243\n",
      "      _probe       0.95      0.90      0.93       188\n",
      "        _r2l       0.88      0.88      0.88        72\n",
      "        _u2r       0.67      0.50      0.57         4\n",
      "\n",
      "    accuracy                           0.99     11743\n",
      "   macro avg       0.90      0.85      0.87     11743\n",
      "weighted avg       0.99      0.99      0.99     11743\n",
      "\n"
     ]
    },
    {
     "name": "stdout",
     "output_type": "stream",
     "text": [
      "\n",
      "Algorithm: RandomForest\n",
      "\n",
      "0.9987226432768458\n",
      "[[5231    4    1    0    0]\n",
      " [   0 6243    0    0    0]\n",
      " [   0    4  184    0    0]\n",
      " [   0    4    0   67    1]\n",
      " [   0    1    0    0    3]]\n",
      "              precision    recall  f1-score   support\n",
      "\n",
      "        _dos       1.00      1.00      1.00      5236\n",
      "     _normal       1.00      1.00      1.00      6243\n",
      "      _probe       0.99      0.98      0.99       188\n",
      "        _r2l       1.00      0.93      0.96        72\n",
      "        _u2r       0.75      0.75      0.75         4\n",
      "\n",
      "    accuracy                           1.00     11743\n",
      "   macro avg       0.95      0.93      0.94     11743\n",
      "weighted avg       1.00      1.00      1.00     11743\n",
      "\n",
      "\n",
      "Algorithm: NaiveBayes\n",
      "\n",
      "0.8665588009878226\n",
      "[[5081   88   66    0    1]\n",
      " [  28 4907  632   16  660]\n",
      " [   1   13  160    0   14]\n",
      " [   0    1    2   25   44]\n",
      " [   0    0    0    1    3]]\n",
      "              precision    recall  f1-score   support\n",
      "\n",
      "        _dos       0.99      0.97      0.98      5236\n",
      "     _normal       0.98      0.79      0.87      6243\n",
      "      _probe       0.19      0.85      0.31       188\n",
      "        _r2l       0.60      0.35      0.44        72\n",
      "        _u2r       0.00      0.75      0.01         4\n",
      "\n",
      "    accuracy                           0.87     11743\n",
      "   macro avg       0.55      0.74      0.52     11743\n",
      "weighted avg       0.97      0.87      0.91     11743\n",
      "\n"
     ]
    }
   ],
   "source": [
    "# Performs training and uses validation data for testing\n",
    "for s_name, s_model in feat_select_models:\n",
    "  print(\"\\nModel %s:\\n\" % s_name)\n",
    "  for m_name, m_model in s_model.get_models():\n",
    "    X_selected = s_model.set_features(X_val)\n",
    "    predictions = ml_eval.predict(m_model, X_selected)\n",
    "    print(\"\\nAlgorithm: %s\\n\" % m_name)\n",
    "    print(metrics.accuracy_score(Y_val, predictions))\n",
    "    print(metrics.confusion_matrix(Y_val, predictions))\n",
    "    print(metrics.classification_report(Y_val, predictions))"
   ]
  },
  {
   "cell_type": "markdown",
   "metadata": {
    "id": "zUVoXWxSYpie"
   },
   "source": [
    "However, even with the correct predictions, some classes were not registered in the model, such as `u2s` and the class `r2l` was also left without representation in the model, possibly due to the imbalance of these classes, in favor of the other 2 classes of attacks and the normal class."
   ]
  },
  {
   "cell_type": "markdown",
   "metadata": {
    "id": "N64MvkvgaIs7"
   },
   "source": [
    "## 9. Ensemble Methods"
   ]
  },
  {
   "cell_type": "markdown",
   "metadata": {
    "id": "eB7mIfM8aNvb"
   },
   "source": [
    "Another way to improve the performance of algorithms is to use ensemble methods. We will evaluate two Bagging methods:\n",
    "* Random Forests (RF)\n",
    "* Extra Trees (ET)\n",
    "\n",
    "### Cross-validation\n",
    "\n",
    "We will again use 10-fold cross-validation. Like boosting algorithms, these are also based on decision trees. We will not use Boosting methods due to their required time to execute in this analysis.\n"
   ]
  },
  {
   "cell_type": "code",
   "execution_count": null,
   "metadata": {
    "colab": {
     "base_uri": "https://localhost:8080/"
    },
    "id": "fFRmEDP8aYyC",
    "outputId": "647b6cd4-93c7-4203-a23d-cd6f1a180dee"
   },
   "outputs": [],
   "source": [
    "np.random.seed(7) # seed setting\n",
    "\n",
    "# Bagging Ensemble Methods\n",
    "num_estimator = 10\n",
    "ens_batch_builder.insert_model(RFEnsembleModel(num_estimator), X_train, Y_train)\n",
    "ens_batch_builder.insert_model(ETEnsembleModel(num_estimator), X_train, Y_train)\n",
    "\n",
    "ba_results = []\n",
    "ba_names = []\n",
    "for s_name, s_model in selector:\n",
    "  results = []\n",
    "  names = []\n",
    "  print(\"\\nModel %s:\\n\" % s_name)\n",
    "  for e_name, e_model in ens_batch_builder.get_models():\n",
    "    cv_results = \\\n",
    "    ml_evaluator.evaluate_cross_validation(m_model, X_train[:, s_model], \\\n",
    "                                           Y_train, num_folds, scoring)\n",
    "    results.append(cv_results)\n",
    "    names.append(e_name)\n",
    "    msg = \"%s: %f (%f)\" % (e_name, cv_results.mean(), cv_results.std())\n",
    "    print(msg)\n",
    "  ba_results.append(results)\n",
    "  ba_names.append(names)"
   ]
  },
  {
   "cell_type": "code",
   "execution_count": null,
   "metadata": {
    "colab": {
     "base_uri": "https://localhost:8080/",
     "height": 294
    },
    "id": "NrzD_X1TsQC3",
    "outputId": "c243f743-1d89-4934-fa2a-6f84407ac0e8"
   },
   "outputs": [],
   "source": [
    "# Model comparison\n",
    "fig = plt.figure() \n",
    "fig.suptitle('Model comparison') \n",
    "# all classifiers\n",
    "ax = fig.add_subplot(121) \n",
    "plt.title('Chi-2 model') \n",
    "plt.boxplot(ba_results[0]) \n",
    "ax.set_xticklabels(ba_names[0]) \n",
    "ax = fig.add_subplot(122) \n",
    "plt.title('Xtree model') \n",
    "plt.boxplot(ba_results[1]) \n",
    "ax.set_xticklabels(ba_names[1]) \n",
    "plt.show()"
   ]
  },
  {
   "cell_type": "markdown",
   "metadata": {
    "id": "A2u5xX1lw99-"
   },
   "source": [
    "### Validation tests"
   ]
  },
  {
   "cell_type": "markdown",
   "metadata": {
    "id": "oaZQEnSnyet4"
   },
   "source": [
    "Likewise, we will perform the test on the validation data using the previously employed ensembles."
   ]
  },
    {
      "cell_type": "code",
      "source": [
        "# Realiza o treinamento e usa os dados de validação para teste\n",
        "for s_name, s_model in ens_batch_model:\n",
        "  print(\"\\nModelo %s:\\n\" % s_name)\n",
        "  for ba_name, ba_model in s_model.get_models():\n",
        "    predictions = ml_evaluator.predict(m_model, s_model.set_features(X_val))\n",
        "    print(\"\\nAlgoritmo %s:\\n\" % ba_name)\n",
        "    print(accuracy_score(Y_val, predictions))\n",
        "    print(confusion_matrix(Y_val, predictions))\n",
        "    print(classification_report(Y_val, predictions))"
      ],
      "metadata": {
        "colab": {
          "base_uri": "https://localhost:8080/"
        },
        "id": "9ZAUGkWHw-b4",
        "outputId": "290eed1e-f774-4333-fef2-e1f88d623e71"
      },
      "execution_count": 43,
      "outputs": [
        {
          "output_type": "stream",
          "name": "stdout",
          "text": [
            "\n",
            "Modelo Chi-2:\n",
            "\n",
            "\n",
            "Algoritmo RF:\n",
            "\n",
            "0.8523489932885906\n",
            "[[238   5]\n",
            " [ 39  16]]\n",
            "              precision    recall  f1-score   support\n",
            "\n",
            "         dos       0.86      0.98      0.92       243\n",
            "      normal       0.76      0.29      0.42        55\n",
            "\n",
            "    accuracy                           0.85       298\n",
            "   macro avg       0.81      0.64      0.67       298\n",
            "weighted avg       0.84      0.85      0.82       298\n",
            "\n",
            "\n",
            "Algoritmo ET:\n",
            "\n",
            "0.8523489932885906\n",
            "[[238   5]\n",
            " [ 39  16]]\n",
            "              precision    recall  f1-score   support\n",
            "\n",
            "         dos       0.86      0.98      0.92       243\n",
            "      normal       0.76      0.29      0.42        55\n",
            "\n",
            "    accuracy                           0.85       298\n",
            "   macro avg       0.81      0.64      0.67       298\n",
            "weighted avg       0.84      0.85      0.82       298\n",
            "\n",
            "\n",
            "Modelo XTrees:\n",
            "\n",
            "\n",
            "Algoritmo RF:\n",
            "\n",
            "0.9664429530201343\n",
            "[[237   6]\n",
            " [  4  51]]\n",
            "              precision    recall  f1-score   support\n",
            "\n",
            "         dos       0.98      0.98      0.98       243\n",
            "      normal       0.89      0.93      0.91        55\n",
            "\n",
            "    accuracy                           0.97       298\n",
            "   macro avg       0.94      0.95      0.95       298\n",
            "weighted avg       0.97      0.97      0.97       298\n",
            "\n",
            "\n",
            "Algoritmo ET:\n",
            "\n",
            "0.9664429530201343\n",
            "[[237   6]\n",
            " [  4  51]]\n",
            "              precision    recall  f1-score   support\n",
            "\n",
            "         dos       0.98      0.98      0.98       243\n",
            "      normal       0.89      0.93      0.91        55\n",
            "\n",
            "    accuracy                           0.97       298\n",
            "   macro avg       0.94      0.95      0.95       298\n",
            "weighted avg       0.97      0.97      0.97       298\n",
            "\n"
          ]
        }
      ]
    },
  {
   "cell_type": "markdown",
   "metadata": {
    "id": "_SuW_D6v7aai"
   },
   "source": [
    "In both modes, both Random Forests and Extra Trees achieved superior performance compared to the other methods, although the difference is small compared to the other algorithms."
   ]
  },
  {
   "cell_type": "markdown",
   "metadata": {
    "id": "atwNe95dsjqU"
   },
   "source": [
    "## 10. Concluding the model"
   ]
  },
  {
   "cell_type": "markdown",
   "metadata": {
    "id": "i-NSNHIMsmEw"
   },
   "source": [
    "### Test data and intrusion detection"
   ]
  },
  {
   "cell_type": "markdown",
   "metadata": {
    "id": "nDb_nRIWsqo-"
   },
   "source": [
    "Finally, we use the remaining 10% portion of the dataset with those algorithms that performed better, namely Decision Tree, Logistic Regression, SVM and both ensemble methods, as they had achieved similar results.\n",
    "\n",
    "Differently from those tests performed on validation data, accuracy analysis will also be based on:\n",
    "\n",
    "1. **TP** - True Positives - an actual attack scenario has been detected;\n",
    "2. **TN** - True Negatives - system at normal operation, and no alarm was set;\n",
    "3. **FP** - False Positives - no attack, but an alarm was set;\n",
    "4. **FN** - False Negatives - system under attack scenario, but without its detection.\n",
    "\n",
    "Calculating them and obtaining the model's detection rates according to known intrusion detection metrics, namely:\n",
    "\n",
    "1. **sensitivity** - Model sensitivity, related to TP; \n",
    "2. **specificity** - Model specificity, related to TN; \n",
    "3. **precision** - Model precision, related to performed detection;\n",
    "4. **accuracy** - Model accuracy, related to TP and TN. \n"
   ]
  },
  {
   "cell_type": "code",
   "execution_count": null,
   "metadata": {
    "colab": {
     "base_uri": "https://localhost:8080/"
    },
    "id": "X1GUAlZysxss",
    "outputId": "e33fbffc-f5d9-4ca8-a5c8-c6a719c26365"
   },
   "outputs": [],
   "source": [
    "\n",
    "# Generating models\n",
    "num_estimator = 10\n",
    "batch_builder = MlBatchBuilder()\n",
    "ids_evaluator = IDSEvaluator()\n",
    "batch_builder.insert_model(LRModel(), X_train, Y_train)\n",
    "batch_builder.insert_model(TreesModel(), X_train, Y_train)\n",
    "batch_builder.insert_model(SVMModel(), X_train, Y_train)\n",
    "batch_builder.insert_model(RFEnsembleModel(num_estimator), X_train, Y_train)\n",
    "batch_builder.insert_model(ETEnsembleModel(num_estimator), X_train, Y_train)\n",
    "\n",
    "# Perform training and use validation samples as test\n",
    "selector = []\n",
    "selector.append(('Chi-2', sorted_attr_KB))\n",
    "selector.append(('XTrees', sorted_attr_ET))\n",
    "for s_name, s_model in selector:\n",
    "  print(\"\\nModel %s: \" % s_name)\n",
    "  for m_name, m_model in batch_builder.get_models():\n",
    "    print(\"\\nModel %s:\\n\" % m_name)\n",
    "    Y_pred = ml_evaluator.predict(m_model, X_test)\n",
    "    sensitivity, specificity, precision, accuracy = \\\n",
    "    ids_evaluator.evaluate_detection('normal', Y_test, Y_pred)\n",
    "    print(\"Sensitivity: \", sensitivity)\n",
    "    print(\"Specificity: \", specificity)\n",
    "    print(\"Precision: \", precision)\n",
    "    print(\"Accuracy: \", accuracy)"
   ]
  },
  {
   "cell_type": "markdown",
   "metadata": {
    "id": "WmyEUxwMs2Wp"
   },
   "source": [
    "These results indicate that evaluated models presented similar performance at most metrics, pointing that they can perform good intrusion detection according to these tests."
   ]
  },
  {
   "cell_type": "markdown",
   "metadata": {
    "id": "ZrRI83BWs4-m"
   },
   "source": [
    "### Novel data analysis"
   ]
  },
  {
   "cell_type": "markdown",
   "metadata": {
    "id": "1dBpM5lfs8DM"
   },
   "source": [
    "Considering 5 new instances whose output class is unknown, we can apply our newly trained models to estimate the classes! To do this, it will be necessary to normalize the data first (using the same scale as the data used during model training). We chose to store them in an array due to the less work involved in converting the model.\n",
    "\n",
    "```\n",
    "1,tcp,smtp,SF,3170,329,0,0,0,0,0,1,0,0,0,0,0,0,0,0,0,0,1,2,0.00,0.00,0.00,0.00,1.00,0.00,1.00,54,39,0.72,0.11,0.02,0.00,0.02,0.00,0.09,0.13\n",
    "0,tcp,netstat,REJ,0,0,0,0,0,0,0,0,0,0,0,0,0,0,0,0,0,0,268,19,0.00,0.00,1.00,1.00,0.07,0.06,0.00,255,19,0.07,0.06,0.00,0.00,0.00,0.00,1.00,1.00\n",
    "0,icmp,ecr_i,SF,1032,0,0,0,0,0,0,0,0,0,0,0,0,0,0,0,0,0,135,135,0.00,0.00,0.00,0.00,1.00,0.00,0.00,255,255,1.00,0.00,1.00,0.00,0.00,0.00,0.00,0.00\n",
    "0,'tcp','other','RSTR',0,0,0,0,0,0,0,0,0,0,0,0,0,0,0,0,0,0,1,1,0.00,0.00,1.00,1.00,1.00,0.00,0.00,255,1,0.00,0.94,0.93,0.00,0.00,0.00,0.93,1.00\n",
    "0,'udp','ntp_u','SF',48,48,0,0,0,0,0,0,0,0,0,0,0,0,0,0,0,0,1,1,0.00,0.00,0.00,0.00,1.00,0.00,0.00,115,46,0.40,0.02,0.40,0.00,0.00,0.00,0.00,0.00\n",
    "```"
   ]
  },
  {
   "cell_type": "code",
   "execution_count": null,
   "metadata": {
    "colab": {
     "base_uri": "https://localhost:8080/"
    },
    "id": "PvQuZ629tJuG",
    "outputId": "aeff2f86-dcc4-447a-baec-9442b0ed86d6"
   },
   "outputs": [],
   "source": [
    "novel = np.array([[1,'tcp','smtp','SF',3170,329,0,0,0,0,0,1,0,0,0,0,0,0,0,0,0,0,1,2,0.00,0.00,0.00,0.00,1.00,0.00,1.00,54,39,0.72,0.11,0.02,0.00,0.02,0.00,0.09,0.13],\n",
    "     [0,'tcp','netstat','REJ',0,0,0,0,0,0,0,0,0,0,0,0,0,0,0,0,0,0,268,19,0.00,0.00,1.00,1.00,0.07,0.06,0.00,255,19,0.07,0.06,0.00,0.00,0.00,0.00,1.00,1.00],\n",
    "     [0,'icmp','ecr_i','SF',1032,0,0,0,0,0,0,0,0,0,0,0,0,0,0,0,0,0,135,135,0.00,0.00,0.00,0.00,1.00,0.00,0.00,255,255,1.00,0.00,1.00,0.00,0.00,0.00,0.00,0.00],\n",
    "     [0,'tcp','other','RSTR',0,0,0,0,0,0,0,0,0,0,0,0,0,0,0,0,0,0,1,1,0.00,0.00,1.00,1.00,1.00,0.00,0.00,255,1,0.00,0.94,0.93,0.00,0.00,0.00,0.93,1.00],\n",
    "     [0,'udp','ntp_u','SF',48,48,0,0,0,0,0,0,0,0,0,0,0,0,0,0,0,0,1,1,0.00,0.00,0.00,0.00,1.00,0.00,0.00,115,46,0.40,0.02,0.40,0.00,0.00,0.00,0.00,0.00]])\n",
    "\n",
    "X_novel = preprocessor.evaluate_novel_data(novel)\n",
    "\n",
    "# Classification procedures\n",
    "selector = []\n",
    "selector.append(('Chi-2', sorted_attr_KB))\n",
    "selector.append(('XTrees', sorted_attr_ET))\n",
    "for s_name, s_model in selector:\n",
    "  print(\"\\nModel %s: \" % s_name)\n",
    "  for m_name, m_model in batch_builder.get_models():\n",
    "    print(\"\\nModel %s:\\n\" % m_name)\n",
    "    Y_novel = ml_evaluator.predict(m_model, X_novel)\n",
    "    print(Y_novel)"
   ]
  },
  {
   "cell_type": "markdown",
   "metadata": {
    "id": "02Mfp13ey6Le"
   },
   "source": [
    "In this case, all classifiers have obtained the same classification result, indicating that they have similar performance. Some groups of data may have different results under certain conditions."
   ]
  },
  {
   "cell_type": "markdown",
   "metadata": {
    "id": "Fi7YiiWxESqe"
   },
   "source": [
    "## 11. Imbalanced data issues"
   ]
  },
  {
   "cell_type": "code",
   "execution_count": null,
   "metadata": {
    "colab": {
     "base_uri": "https://localhost:8080/"
    },
    "id": "T3SDV_LhF2LU",
    "outputId": "2298ad08-05ff-452d-af45-ba34a8b04eb5"
   },
   "outputs": [],
   "source": [
    "# classes distribution\n",
    "print(data.groupby('class_type').size())"
   ]
  },
  {
   "cell_type": "markdown",
   "metadata": {
    "id": "JttjzeVtEdEq"
   },
   "source": [
    "As seen throughout this work, we have a set of imbalanced data since classes have skewed proportions, so the addition of a balancing step by removing redundant data during the data selection is a needed step, as in this example:"
   ]
  },
  {
   "cell_type": "code",
   "execution_count": null,
   "metadata": {
    "colab": {
     "base_uri": "https://localhost:8080/"
    },
    "id": "nc9aRiW0GinJ",
    "outputId": "17f7ee95-781d-4608-d69c-17efa1a6b260"
   },
   "outputs": [],
   "source": [
    "# class skewness\n",
    "data_unique = data.copy()\n",
    "data_unique.drop_duplicates(subset=None, keep='first', inplace=True)\n",
    "# same as above\n",
    "data_unique['class_type'].value_counts()"
   ]
  },
  {
   "cell_type": "code",
   "execution_count": null,
   "metadata": {},
   "outputs": [],
   "source": [
    "# Seaborn Scatter Plot\n",
    "\n",
    "sns.pairplot(data, hue = \"class_type\", height = 2.5);"
   ]
  },
  {
   "cell_type": "markdown",
   "metadata": {
    "id": "v0xhhbwFIJWA"
   },
   "source": [
    "Below, we will list a new library and will also include a new data balancing class. The method chosen was undersampling (low sampling) of majority classes, in order to provide a fairer number of attack classes in relation to the normal class. Furthermore, classes with low sampling will suffer oversampling (high sampling), seeking a value that is compatible with that of the other classes.\n",
    "\n",
    "To achieve this objective, we use the median value of the number of samples contained in the classes and make appropriate adjustments."
   ]
  },
  {
   "cell_type": "code",
   "execution_count": null,
   "metadata": {
    "colab": {
     "base_uri": "https://localhost:8080/",
     "height": 488
    },
    "deletable": false,
    "editable": false,
    "id": "JZwceQMUJFDB",
    "outputId": "e22c0503-86e1-44b8-fcc4-850387661649"
   },
   "outputs": [],
   "source": [
    "from sklearn.utils import resample\n",
    "from sklearn.preprocessing import StandardScaler\n",
    "\n",
    "df = data_unique\n",
    "\n",
    "df_normal = df[df['class_type'] == 'normal']\n",
    "df_dos = df[df['class_type'] == 'dos']\n",
    "df_probe = df[df['class_type'] == 'probe']\n",
    "df_r2l = df[df['class_type'] == 'r2l']\n",
    "df_u2r = df[df['class_type'] == 'u2r']\n",
    "\n",
    "class_counts = df['class_type'].value_counts().values.reshape(-1, 1)\n",
    "c_median = np.median(class_counts).astype('int64')\n",
    "\n",
    "df_normal_resampled = resample(df_normal,n_samples=c_median,random_state=0)\n",
    "df_dos_resampled = resample(df_dos,n_samples=c_median,random_state=0)\n",
    "df_r2l_resampled = resample(df_r2l,n_samples=c_median,random_state=0)\n",
    "df_u2r_resampled = resample(df_u2r,n_samples=c_median,random_state=0)\n",
    "df_upsampled = pd.concat([df_normal_resampled, df_dos_resampled, df_probe, \\\n",
    "                          df_r2l_resampled, df_u2r_resampled])\n",
    "df_upsampled.sample(frac=1).reset_index(drop=True)"
   ]
  },
  {
   "cell_type": "markdown",
   "metadata": {
    "id": "e1e4hobODviI"
   },
   "source": [
    "Another class was added to our framework."
   ]
  },
  {
   "cell_type": "code",
   "execution_count": null,
   "metadata": {
    "id": "Hjmm5FoCE0Er"
   },
   "outputs": [],
   "source": [
    "from sklearn.utils import resample\n",
    "\n",
    "class DataBalancer:\n",
    "\n",
    "    def balance_data(self, df):\n",
    "        \"\"\" Responsible for balancing dataset. \n",
    "            source: https://elitedatascience.com/imbalanced-classes\n",
    "        \"\"\"\n",
    "        # cleansing data\n",
    "        df_normal = df[df['class_type'] == 'normal']\n",
    "        df_dos = df[df['class_type'] == 'dos']\n",
    "        df_probe = df[df['class_type'] == 'probe']\n",
    "        df_r2l = df[df['class_type'] == 'r2l']\n",
    "        df_u2r = df[df['class_type'] == 'u2r']\n",
    "\n",
    "        class_counts = df['class_type'].value_counts().values.reshape(-1, 1)\n",
    "        c_median = np.median(class_counts).astype('int64')\n",
    "\n",
    "        df_normal_resampled = resample(df_normal,n_samples=c_median,random_state=0)\n",
    "        df_dos_resampled = resample(df_dos,n_samples=c_median,random_state=0)\n",
    "        df_r2l_resampled = resample(df_r2l,n_samples=c_median,random_state=0)\n",
    "        df_u2r_resampled = resample(df_u2r,n_samples=c_median,random_state=0)\n",
    "        df_upsampled = pd.concat([df_normal_resampled, df_dos_resampled, df_probe, \\\n",
    "                                  df_r2l_resampled, df_u2r_resampled])\n",
    "        return df_upsampled.sample(frac=1).reset_index(drop=True)\n",
    "\n"
   ]
  },
  {
   "cell_type": "markdown",
   "metadata": {
    "id": "e92sCSg4Hwfs"
   },
   "source": [
    "Using this class, we evaluate the dataset as follows:"
   ]
  },
  {
   "cell_type": "code",
   "execution_count": null,
   "metadata": {
    "colab": {
     "base_uri": "https://localhost:8080/"
    },
    "id": "hWNwQi_jEB6Y",
    "outputId": "b6c7e1b2-aa61-45b9-bd37-cc4b349ff2e4"
   },
   "outputs": [],
   "source": [
    "# Using balanced data to build ML model\n",
    "data_balanced = DataBalancer().balance_data(data_unique)\n",
    "Xb_tr, Xb_vl, Xb_te, Yb_tr, Yb_vl, Yb_te = PreProcessor().preprocess(data_balanced, 0.7, 0.25)\n",
    "\n",
    "# Using Random Forests to predict and Chi^2 to select features\n",
    "new_model = RFEnsembleModel(10).train(Xb_tr[:, sorted_attr_KB], Yb_tr)\n",
    "\n",
    "# Evaluating first tests batch\n",
    "Yb_pr = MlEvaluator().predict(new_model, Xb_vl[:, sorted_attr_KB])\n",
    "print(accuracy_score(Yb_vl, Yb_pr))\n",
    "print(confusion_matrix(Yb_vl, Yb_pr))\n",
    "print(classification_report(Yb_vl, Yb_pr))\n",
    "\n",
    "# Evaluating second tests batch\n",
    "Yb_tp = MlEvaluator().predict(new_model, Xb_te[:, sorted_attr_KB])\n",
    "sens, spec, prec, acc = IDSEvaluator().evaluate_detection('normal', Yb_te, Yb_tp)\n",
    "print(\"Sensitivity: \", sens)\n",
    "print(\"Specificity: \", spec)\n",
    "print(\"Precision: \", prec)\n",
    "print(\"Accuracy: \", acc)\n"
   ]
  },
  {
   "cell_type": "markdown",
   "metadata": {
    "id": "aoIU8f_fH35n"
   },
   "source": [
    "With the balanced model, we were able to achieve a similar result to those obtained using the unbalanced data in this analysis. Data balancing is an important activity during the training of ML models and in this work, it was included as an additional step to show its importance and how we can achieve a result close to that obtained previously."
   ]
  },
  {
   "cell_type": "markdown",
   "metadata": {
    "id": "9RdXPcONzFSU"
   },
   "source": [
    "## 12. Project summary\n",
    "\n",
    "In short, in this work we presented a complex multi-class classification and anomaly detection problem. The steps covered were:\n",
    "* Problem Definition (**KDD-CUP '99**).\n",
    "*User story of the problem\n",
    "* Source code based on OOP\n",
    "* Data loading\n",
    "* Data analysis (we verified that they were on the same scale, but with different data distributions).\n",
    "* Preprocessing (Normalization, formatting of categorical data)\n",
    "* Attribute Selection (with Chi-square and ExtraTrees)\n",
    "* Missings treatment (Not necessary).\n",
    "* Evaluation of models with data standardization (so far, CART, Logistic Regression and SVM have performed excellently, Naive Bayes has performed averagely).\n",
    "* Adjusting the models (It was not necessary, as there were not many parameters to be adjusted).\n",
    "* Ensemble methods (Improved performance, although not much different from other algorithms)\n",
    "*Model finalization (use all training data and validate using validation dataset).\n",
    "* Data balancing (important for analysis)\n",
    "\n",
    "The work was not exhaustive, it was possible to present many of the ML concepts and resources available in the Pandas, Scikit-Learn libraries and other Python tools. Computational costs were one of the challenges encountered in this work, however, the objectives were fulfilled as proposed."
   ]
  },
  {
   "cell_type": "markdown",
   "metadata": {
    "id": "11l-FXsq3SEc"
   },
   "source": [
    "**Concluding remarks**"
   ]
  },
  {
   "cell_type": "markdown",
   "metadata": {
    "id": "vj8B54AG9Kgm"
   },
   "source": [
    "In this project, a recurrent database was tested that has application in an everyday problem (in this case, intrusion detection in computer networks) and with complexity that implies good challenges (considering a large number of samples, features and imbalanced classes), including pre-processing, attribute selection and classification using several ML models, including a test evaluating the intrusion detection potential of each model evaluated. There are other steps that can be included in this analysis, such as other models to be evaluated, including parameters to be adjusted, and further exploration of other attributes. Software engineering practices were adopted in the processes related to data acquisition, processing and classification, allowing for mostly clean code. It is no surprise that these data and models are widely studied in academia and are also important in large corporations, being an inspiration for several products related to the management of computer networks in general."
   ]
  }
 ],
 "metadata": {
  "colab": {
   "collapsed_sections": [],
   "name": "Trabalho_Final_ES.ipynb",
   "provenance": [],
   "toc_visible": true
  },
  "kernelspec": {
   "display_name": "Python 3 (ipykernel)",
   "language": "python",
   "name": "python3"
  },
  "language_info": {
   "codemirror_mode": {
    "name": "ipython",
    "version": 3
   },
   "file_extension": ".py",
   "mimetype": "text/x-python",
   "name": "python",
   "nbconvert_exporter": "python",
   "pygments_lexer": "ipython3",
   "version": "3.10.8"
  }
 },
 "nbformat": 4,
 "nbformat_minor": 1
}
